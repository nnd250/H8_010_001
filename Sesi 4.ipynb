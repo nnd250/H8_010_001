{
 "cells": [
  {
   "cell_type": "markdown",
   "id": "d8ca3f0c",
   "metadata": {},
   "source": [
    "# Sesi 4 : Numpy"
   ]
  },
  {
   "cell_type": "markdown",
   "id": "056efc40",
   "metadata": {},
   "source": [
    "### Nama : Ninda Nurismiranda\n",
    "### Program : Introduction to Python for Data Science"
   ]
  },
  {
   "cell_type": "markdown",
   "id": "506de381",
   "metadata": {},
   "source": [
    "#### Install and Import Numpy"
   ]
  },
  {
   "cell_type": "code",
   "execution_count": 1,
   "id": "c54c3443",
   "metadata": {},
   "outputs": [
    {
     "name": "stdout",
     "output_type": "stream",
     "text": [
      "Requirement already satisfied: numpy in c:\\users\\asus\\anaconda3\\lib\\site-packages (1.20.1)\n",
      "Note: you may need to restart the kernel to use updated packages.\n"
     ]
    }
   ],
   "source": [
    "pip install numpy "
   ]
  },
  {
   "cell_type": "code",
   "execution_count": 2,
   "id": "6c5dc4c3",
   "metadata": {},
   "outputs": [],
   "source": [
    "import numpy as np"
   ]
  },
  {
   "cell_type": "code",
   "execution_count": 3,
   "id": "3eb4f8d4",
   "metadata": {},
   "outputs": [
    {
     "name": "stdout",
     "output_type": "stream",
     "text": [
      "[0, 2, 12, 36, 80, 150, 252, 392, 576, 810]\n"
     ]
    }
   ],
   "source": [
    "## Adding Vector menggunakan pure python without numpy \n",
    "def pythonsum(n):\n",
    "    a = b = list(range(n)) ## range returns a lazy sequence object - it does not return a list\n",
    "    c = [] \n",
    "    for i in range(len(a)):\n",
    "        x = a[i] ** 2 \n",
    "        y = b[i] ** 3 \n",
    "        c.append(x + y )\n",
    "    return c \n",
    "    \n",
    "c = pythonsum(10)    \n",
    "print(c)"
   ]
  },
  {
   "cell_type": "code",
   "execution_count": 4,
   "id": "0131dc8b",
   "metadata": {},
   "outputs": [
    {
     "name": "stdout",
     "output_type": "stream",
     "text": [
      "[  0   2  12  36  80 150 252 392 576 810]\n"
     ]
    }
   ],
   "source": [
    "## Adding Vector menggunakan pure python without numpy \n",
    "def numpysum(n):\n",
    "    a = np.arange(n) ** 2 \n",
    "    b = np.arange(n) ** 3 \n",
    "    c=a+ b\n",
    "    return c\n",
    "\n",
    "x = numpysum(10) \n",
    "print(x)"
   ]
  },
  {
   "cell_type": "code",
   "execution_count": 5,
   "id": "7cfe052f",
   "metadata": {},
   "outputs": [
    {
     "name": "stdout",
     "output_type": "stream",
     "text": [
      "The last 2 elements of the sum [950796, 980100]\n",
      "PythonSum elapsed time in microseconds 0\n"
     ]
    }
   ],
   "source": [
    "## membandingkan kecepatan antara numpy dg List core python \n",
    "from datetime import datetime\n",
    "size = 100\n",
    "start = datetime.now()\n",
    "c = pythonsum(size)\n",
    "delta = datetime.now() - start\n",
    "print(\"The last 2 elements of the sum\", c[-2:])\n",
    "print(\"PythonSum elapsed time in microseconds\", delta.microseconds)"
   ]
  },
  {
   "cell_type": "code",
   "execution_count": 6,
   "id": "23c3078b",
   "metadata": {},
   "outputs": [
    {
     "name": "stdout",
     "output_type": "stream",
     "text": [
      "The last 2 elements of the sum [950796 980100]\n",
      "NumPySum elapsed time in microseconds 0\n"
     ]
    }
   ],
   "source": [
    "start = datetime.now()\n",
    "c = numpysum(size)\n",
    "delta = datetime.now() - start\n",
    "print(\"The last 2 elements of the sum\", c[-2:])\n",
    "print(\"NumPySum elapsed time in microseconds\", delta.microseconds)"
   ]
  },
  {
   "cell_type": "markdown",
   "id": "e6971d80",
   "metadata": {},
   "source": [
    "### Array"
   ]
  },
  {
   "cell_type": "code",
   "execution_count": 7,
   "id": "7c50089e",
   "metadata": {},
   "outputs": [],
   "source": [
    "import numpy "
   ]
  },
  {
   "cell_type": "code",
   "execution_count": 10,
   "id": "7f1fdce7",
   "metadata": {},
   "outputs": [
    {
     "name": "stdout",
     "output_type": "stream",
     "text": [
      "[1 2 3 4]\n"
     ]
    }
   ],
   "source": [
    "a = np.array ([[1, 2, 3, 4], [5, 6, 7, 8], [9, 10, 11, 12]])\n",
    "print (a[0])"
   ]
  },
  {
   "cell_type": "markdown",
   "id": "11b2d369",
   "metadata": {},
   "source": [
    "##### Creating Array"
   ]
  },
  {
   "cell_type": "markdown",
   "id": "c2826a8a",
   "metadata": {},
   "source": [
    "np.array()\n",
    "np.zeros()\n",
    "np.ones()\n",
    "np.empty()\n",
    "np.arange()"
   ]
  },
  {
   "cell_type": "code",
   "execution_count": 16,
   "id": "391a3662",
   "metadata": {},
   "outputs": [
    {
     "data": {
      "text/plain": [
       "array([1, 2, 3])"
      ]
     },
     "execution_count": 16,
     "metadata": {},
     "output_type": "execute_result"
    }
   ],
   "source": [
    "import numpy as np\n",
    "a = np.array([1,2,3])\n",
    "a"
   ]
  },
  {
   "cell_type": "code",
   "execution_count": 18,
   "id": "332dae2e",
   "metadata": {},
   "outputs": [
    {
     "data": {
      "text/plain": [
       "array([0., 0., 0., 0., 0., 0.])"
      ]
     },
     "execution_count": 18,
     "metadata": {},
     "output_type": "execute_result"
    }
   ],
   "source": [
    "np.zeros(6)"
   ]
  },
  {
   "cell_type": "code",
   "execution_count": 20,
   "id": "06e75b4d",
   "metadata": {},
   "outputs": [
    {
     "data": {
      "text/plain": [
       "array([1., 1., 1., 1., 1., 1.])"
      ]
     },
     "execution_count": 20,
     "metadata": {},
     "output_type": "execute_result"
    }
   ],
   "source": [
    "np.ones(6)"
   ]
  },
  {
   "cell_type": "code",
   "execution_count": 21,
   "id": "42e648ec",
   "metadata": {},
   "outputs": [
    {
     "data": {
      "text/plain": [
       "array([1., 1., 1., 1., 1., 1.])"
      ]
     },
     "execution_count": 21,
     "metadata": {},
     "output_type": "execute_result"
    }
   ],
   "source": [
    "np.empty(6)"
   ]
  },
  {
   "cell_type": "code",
   "execution_count": 25,
   "id": "400820e5",
   "metadata": {},
   "outputs": [
    {
     "name": "stdout",
     "output_type": "stream",
     "text": [
      "[0 1 2 3]\n",
      "[0 2 4 6 8]\n"
     ]
    }
   ],
   "source": [
    "# You can create an array with a range of elements\n",
    "print(np.arange(4))\n",
    "print(np.arange(0,10,2)) # start 0 , Stop = 10 , step =2 "
   ]
  },
  {
   "cell_type": "markdown",
   "id": "6081c5ae",
   "metadata": {},
   "source": [
    "Apa yang dilakukan **arange([start],stop,[step])** adalah mengatur angka dari awal hingga berhenti, dalam langkah langkah. Inilah artinya untuk np.arange(0,10,2)"
   ]
  },
  {
   "cell_type": "code",
   "execution_count": 26,
   "id": "8cd6ebac",
   "metadata": {},
   "outputs": [
    {
     "name": "stdout",
     "output_type": "stream",
     "text": [
      "[ 2  7 12 17 22 27]\n"
     ]
    }
   ],
   "source": [
    "print(np.arange(2,29,5))"
   ]
  },
  {
   "cell_type": "markdown",
   "id": "824c3007",
   "metadata": {},
   "source": [
    "#### Add, Remove and Sort"
   ]
  },
  {
   "cell_type": "markdown",
   "id": "9e643161",
   "metadata": {},
   "source": [
    "* np.append()\n",
    "* np.delete()\n",
    "* np.sort()"
   ]
  },
  {
   "cell_type": "code",
   "execution_count": 27,
   "id": "5f5617ae",
   "metadata": {},
   "outputs": [
    {
     "name": "stdout",
     "output_type": "stream",
     "text": [
      "[1 2 3 4 5 6 7 8]\n"
     ]
    }
   ],
   "source": [
    "arr = np.array([1, 2, 3, 4, 5, 6, 7, 8])\n",
    "print(arr)"
   ]
  },
  {
   "cell_type": "code",
   "execution_count": 28,
   "id": "eac1fc86",
   "metadata": {},
   "outputs": [
    {
     "name": "stdout",
     "output_type": "stream",
     "text": [
      "[ 1  2  3  4  5  6  7  8  9 10]\n"
     ]
    }
   ],
   "source": [
    "arr = np.append(arr, [9,10])\n",
    "print(arr)"
   ]
  },
  {
   "cell_type": "code",
   "execution_count": 29,
   "id": "563b80b6",
   "metadata": {},
   "outputs": [
    {
     "data": {
      "text/plain": [
       "array([ 1,  3,  4,  5,  6,  7,  8,  9, 10])"
      ]
     },
     "execution_count": 29,
     "metadata": {},
     "output_type": "execute_result"
    }
   ],
   "source": [
    "# menghapus index 1 \n",
    "np.delete(arr, 1)"
   ]
  },
  {
   "cell_type": "code",
   "execution_count": 30,
   "id": "acd879bc",
   "metadata": {},
   "outputs": [
    {
     "data": {
      "text/plain": [
       "array([ 1,  2,  3,  4,  5,  6,  7,  8,  9, 10])"
      ]
     },
     "execution_count": 30,
     "metadata": {},
     "output_type": "execute_result"
    }
   ],
   "source": [
    "np.sort(arr)"
   ]
  },
  {
   "cell_type": "markdown",
   "id": "5e9305bf",
   "metadata": {},
   "source": [
    "#### Multi-dimensional Arrays"
   ]
  },
  {
   "cell_type": "code",
   "execution_count": 31,
   "id": "b22ad014",
   "metadata": {},
   "outputs": [
    {
     "name": "stdout",
     "output_type": "stream",
     "text": [
      "<class 'list'>\n"
     ]
    },
    {
     "data": {
      "text/plain": [
       "[[0, 1, 2, 3], [10, 11, 12, 13]]"
      ]
     },
     "execution_count": 31,
     "metadata": {},
     "output_type": "execute_result"
    }
   ],
   "source": [
    "multi_list = [[0, 1, 2, 3], [10, 11, 12,13]]\n",
    "print(type(multi_list))\n",
    "multi_list"
   ]
  },
  {
   "cell_type": "code",
   "execution_count": 32,
   "id": "b72b525b",
   "metadata": {},
   "outputs": [
    {
     "name": "stdout",
     "output_type": "stream",
     "text": [
      "<class 'numpy.ndarray'>\n"
     ]
    },
    {
     "data": {
      "text/plain": [
       "array([[ 0,  1,  2,  3],\n",
       "       [10, 11, 12, 13]])"
      ]
     },
     "execution_count": 32,
     "metadata": {},
     "output_type": "execute_result"
    }
   ],
   "source": [
    "a = np.array(multi_list)\n",
    "print(type(a))\n",
    "a"
   ]
  },
  {
   "cell_type": "markdown",
   "id": "3b5e8f9e",
   "metadata": {},
   "source": [
    "##### ndim, size, and shape"
   ]
  },
  {
   "cell_type": "code",
   "execution_count": null,
   "id": "e31b96cf",
   "metadata": {},
   "outputs": [],
   "source": [
    "ndarray.ndim #untuk mengetahui jumlah axes, atau dimensi dari array\n",
    "ndarray.size #untuk mengetahui jumlah total elemen array\n",
    "nd.array.shape #untuk menampilkan tupple integer yang menunjukkan jumlah elemen yang disimpan disepanjang setiap dimensi array"
   ]
  },
  {
   "cell_type": "code",
   "execution_count": 33,
   "id": "dce7a0d9",
   "metadata": {},
   "outputs": [
    {
     "name": "stdout",
     "output_type": "stream",
     "text": [
      "[2 1 5 3 7 4 6 8]\n"
     ]
    }
   ],
   "source": [
    "arr_1 = np.array([2, 1, 5, 3, 7, 4, 6, 8])  # 1 dimensi\n",
    "print(arr_1)"
   ]
  },
  {
   "cell_type": "code",
   "execution_count": 34,
   "id": "f3543f9f",
   "metadata": {},
   "outputs": [
    {
     "data": {
      "text/plain": [
       "1"
      ]
     },
     "execution_count": 34,
     "metadata": {},
     "output_type": "execute_result"
    }
   ],
   "source": [
    "arr_1.ndim # Untuk mengetahui jumlah dimensi pada data menggunakan fungsi ndim."
   ]
  },
  {
   "cell_type": "code",
   "execution_count": 35,
   "id": "d9ded54c",
   "metadata": {},
   "outputs": [
    {
     "data": {
      "text/plain": [
       "(8,)"
      ]
     },
     "execution_count": 35,
     "metadata": {},
     "output_type": "execute_result"
    }
   ],
   "source": [
    "arr_1.shape # Array a memiliki shape ...5, yaitu panjang array pada 1-dimensi array."
   ]
  },
  {
   "cell_type": "code",
   "execution_count": 37,
   "id": "7f9034c8",
   "metadata": {},
   "outputs": [
    {
     "data": {
      "text/plain": [
       "8"
      ]
     },
     "execution_count": 37,
     "metadata": {},
     "output_type": "execute_result"
    }
   ],
   "source": [
    "arr_1.size"
   ]
  },
  {
   "cell_type": "code",
   "execution_count": 48,
   "id": "f2e5e54c",
   "metadata": {},
   "outputs": [
    {
     "name": "stdout",
     "output_type": "stream",
     "text": [
      "[[[0 1 2 3]\n",
      "  [4 5 6 7]]\n",
      "\n",
      " [[0 1 2 3]\n",
      "  [4 5 6 7]]\n",
      "\n",
      " [[0 1 2 3]\n",
      "  [4 5 6 7]]]\n"
     ]
    }
   ],
   "source": [
    "# 3 dimensi \n",
    "array_example = np.array([[[0, 1, 2, 3],\n",
    "                           [4, 5, 6, 7]],\n",
    "\n",
    "                          [[0, 1, 2, 3],\n",
    "                           [4, 5, 6, 7]],\n",
    "\n",
    "                          [[0, 1, 2, 3],\n",
    "                           [4, 5, 6, 7]]])\n",
    "\n",
    "print(array_example)"
   ]
  },
  {
   "cell_type": "code",
   "execution_count": 49,
   "id": "104b054f",
   "metadata": {},
   "outputs": [
    {
     "data": {
      "text/plain": [
       "3"
      ]
     },
     "execution_count": 49,
     "metadata": {},
     "output_type": "execute_result"
    }
   ],
   "source": [
    "array_example.ndim"
   ]
  },
  {
   "cell_type": "code",
   "execution_count": 50,
   "id": "74350894",
   "metadata": {},
   "outputs": [
    {
     "data": {
      "text/plain": [
       "(3, 2, 4)"
      ]
     },
     "execution_count": 50,
     "metadata": {},
     "output_type": "execute_result"
    }
   ],
   "source": [
    "array_example.shape "
   ]
  },
  {
   "cell_type": "code",
   "execution_count": 51,
   "id": "8f85f11c",
   "metadata": {},
   "outputs": [
    {
     "data": {
      "text/plain": [
       "24"
      ]
     },
     "execution_count": 51,
     "metadata": {},
     "output_type": "execute_result"
    }
   ],
   "source": [
    "array_example.size"
   ]
  },
  {
   "cell_type": "markdown",
   "id": "8fdb492f",
   "metadata": {},
   "source": [
    "#### Sorting Array"
   ]
  },
  {
   "cell_type": "markdown",
   "id": "d57d44d5",
   "metadata": {},
   "source": [
    " np.sort?  ## Signature: np.sort(a, axis=-1, kind=None, order=None)\n",
    "\n",
    " ----------------------------------\n",
    "|   kind    |  speed  |    stable |\n",
    "|:--------|:-------|:--------| \n",
    "|'quicksort' |   1    |          no |\n",
    "|'heapsort'  |   3   |          no |\n",
    "|'mergesort' |   2   |       yes |\n",
    "|'timsort'   |   2  |          yes |\n"
   ]
  },
  {
   "cell_type": "code",
   "execution_count": 39,
   "id": "07decd5c",
   "metadata": {},
   "outputs": [
    {
     "data": {
      "text/plain": [
       "array([[4, 1, 0, 5],\n",
       "       [1, 5, 3, 4]])"
      ]
     },
     "execution_count": 39,
     "metadata": {},
     "output_type": "execute_result"
    }
   ],
   "source": [
    "data = np.array([[4, 1, 0, 5],[1, 5, 3, 4]])\n",
    "data"
   ]
  },
  {
   "cell_type": "code",
   "execution_count": 40,
   "id": "d9b9968c",
   "metadata": {},
   "outputs": [
    {
     "name": "stdout",
     "output_type": "stream",
     "text": [
      "[[0 1 4 5]\n",
      " [1 3 4 5]]\n"
     ]
    }
   ],
   "source": [
    "# menambahkan parameter axis =1 \n",
    "data.sort(axis=1)\n",
    "print(data)"
   ]
  },
  {
   "cell_type": "code",
   "execution_count": 41,
   "id": "ad1e1d5c",
   "metadata": {},
   "outputs": [],
   "source": [
    "## dengan kita menambahkan parameter \"axis=0\" kita menghasilkan \n",
    "## array baru yang merupakan hasil sorting berdasarkan per kolom "
   ]
  },
  {
   "cell_type": "code",
   "execution_count": 42,
   "id": "419209a9",
   "metadata": {},
   "outputs": [
    {
     "name": "stdout",
     "output_type": "stream",
     "text": [
      "[[4 1 0 5]\n",
      " [1 5 3 4]]\n",
      "sebelum di sort axis=0\n",
      "==================================================\n",
      "[[1 1 0 4]\n",
      " [4 5 3 5]]\n"
     ]
    }
   ],
   "source": [
    "data = np.array([[4, 1, 0, 5],[1, 5, 3, 4]])\n",
    "# menambahkan parameter axis =0 \n",
    "print(data)\n",
    "print(\"sebelum di sort axis=0\")\n",
    "print(10*\"=====\")\n",
    "data.sort(axis=0)\n",
    "print(data)"
   ]
  },
  {
   "cell_type": "code",
   "execution_count": 43,
   "id": "3ef865ea",
   "metadata": {},
   "outputs": [
    {
     "name": "stdout",
     "output_type": "stream",
     "text": [
      "[(b'Arthur', 1.8, 41) (b'Lancelot', 1.9, 38) (b'Galahad', 1.7, 38)]\n"
     ]
    }
   ],
   "source": [
    "#### sorting dengan membuat structure array\n",
    "dtype = [('name', 'S10'), ('height', float), ('age', int)]  ##  name type string , heigh type float , age type int\n",
    "values = [('Arthur', 1.8, 41), \n",
    "          ('Lancelot', 1.9, 38),\n",
    "          ('Galahad', 1.7, 38)]\n",
    "a = np.array(values, dtype=dtype) # create a structured array\n",
    "print(a)"
   ]
  },
  {
   "cell_type": "code",
   "execution_count": 44,
   "id": "4e719cb9",
   "metadata": {},
   "outputs": [
    {
     "name": "stdout",
     "output_type": "stream",
     "text": [
      "[(b'Arthur', 1.8, 41) (b'Galahad', 1.7, 38) (b'Lancelot', 1.9, 38)]\n"
     ]
    }
   ],
   "source": [
    "x = np.sort(a, order='name')  \n",
    "print(x)"
   ]
  },
  {
   "cell_type": "code",
   "execution_count": 45,
   "id": "db7d6225",
   "metadata": {},
   "outputs": [
    {
     "data": {
      "text/plain": [
       "array([(b'Galahad', 1.7, 38), (b'Lancelot', 1.9, 38),\n",
       "       (b'Arthur', 1.8, 41)],\n",
       "      dtype=[('name', 'S10'), ('height', '<f8'), ('age', '<i4')])"
      ]
     },
     "execution_count": 45,
     "metadata": {},
     "output_type": "execute_result"
    }
   ],
   "source": [
    "np.sort(a, order=['age', 'height'])  "
   ]
  },
  {
   "cell_type": "code",
   "execution_count": 46,
   "id": "7cb655c8",
   "metadata": {},
   "outputs": [
    {
     "data": {
      "text/plain": [
       "('Lancelot', 1.9, 38)"
      ]
     },
     "execution_count": 46,
     "metadata": {},
     "output_type": "execute_result"
    }
   ],
   "source": [
    "values[1] # menghasilkan tuple"
   ]
  },
  {
   "cell_type": "code",
   "execution_count": 47,
   "id": "d9bf6ba4",
   "metadata": {},
   "outputs": [
    {
     "data": {
      "text/plain": [
       "'Arthur'"
      ]
     },
     "execution_count": 47,
     "metadata": {},
     "output_type": "execute_result"
    }
   ],
   "source": [
    "values[0][0] ## arthur , "
   ]
  },
  {
   "cell_type": "markdown",
   "id": "421e90f4",
   "metadata": {},
   "source": [
    "##### Reshape"
   ]
  },
  {
   "cell_type": "code",
   "execution_count": 52,
   "id": "75415a09",
   "metadata": {},
   "outputs": [],
   "source": [
    "import numpy as np"
   ]
  },
  {
   "cell_type": "code",
   "execution_count": null,
   "id": "cfb01fa5",
   "metadata": {},
   "outputs": [],
   "source": [
    "np.reshape() #Memberikan bentuk baru ke array tanpa mengubah datanya"
   ]
  },
  {
   "cell_type": "code",
   "execution_count": 54,
   "id": "cf566c69",
   "metadata": {},
   "outputs": [
    {
     "name": "stdout",
     "output_type": "stream",
     "text": [
      "[0 1 2 3 4 5]\n"
     ]
    }
   ],
   "source": [
    "a = np.arange(6)\n",
    "\n",
    "print(a)"
   ]
  },
  {
   "cell_type": "code",
   "execution_count": 55,
   "id": "fc08ce42",
   "metadata": {},
   "outputs": [
    {
     "name": "stdout",
     "output_type": "stream",
     "text": [
      "[[0 1 2]\n",
      " [3 4 5]]\n"
     ]
    }
   ],
   "source": [
    "b = a.reshape(2,3)\n",
    "print(b)\n"
   ]
  },
  {
   "cell_type": "code",
   "execution_count": 56,
   "id": "5ad3500e",
   "metadata": {},
   "outputs": [
    {
     "name": "stdout",
     "output_type": "stream",
     "text": [
      "[[0 1]\n",
      " [2 3]\n",
      " [4 5]]\n"
     ]
    }
   ],
   "source": [
    "##For example, ``a.reshape(10, 11)`` is equivalent to ``a.reshape((10, 11))``\n",
    "c = a.reshape((3,2))\n",
    "print(c)"
   ]
  },
  {
   "cell_type": "code",
   "execution_count": 57,
   "id": "4f4840b9",
   "metadata": {},
   "outputs": [
    {
     "data": {
      "text/plain": [
       "array([[0],\n",
       "       [1],\n",
       "       [2],\n",
       "       [3],\n",
       "       [4],\n",
       "       [5]])"
      ]
     },
     "execution_count": 57,
     "metadata": {},
     "output_type": "execute_result"
    }
   ],
   "source": [
    "a.reshape (6,1)"
   ]
  },
  {
   "cell_type": "markdown",
   "id": "0777c02a",
   "metadata": {},
   "source": [
    "##### Convert 1D to 2D"
   ]
  },
  {
   "cell_type": "markdown",
   "id": "9119b38d",
   "metadata": {},
   "source": [
    "np.newaxis\n",
    "np.expand_dims\n",
    "untuk meningkatkan dimensi array yang ada"
   ]
  },
  {
   "cell_type": "code",
   "execution_count": 58,
   "id": "c75ea09f",
   "metadata": {},
   "outputs": [
    {
     "data": {
      "text/plain": [
       "(6,)"
      ]
     },
     "execution_count": 58,
     "metadata": {},
     "output_type": "execute_result"
    }
   ],
   "source": [
    "a = np.array([1, 2, 3, 4, 5, 6])\n",
    "a.shape"
   ]
  },
  {
   "cell_type": "code",
   "execution_count": 59,
   "id": "386903a2",
   "metadata": {},
   "outputs": [
    {
     "name": "stdout",
     "output_type": "stream",
     "text": [
      "(1, 6)\n",
      "[[1 2 3 4 5 6]]\n"
     ]
    }
   ],
   "source": [
    "# menambahkan menggunakan np.newaxis \n",
    "a2 = a[np.newaxis]\n",
    "print(a2.shape)\n",
    "print(a2)"
   ]
  },
  {
   "cell_type": "code",
   "execution_count": 60,
   "id": "a9a8003d",
   "metadata": {},
   "outputs": [
    {
     "name": "stdout",
     "output_type": "stream",
     "text": [
      "(1, 6)\n",
      "[[1 2 3 4 5 6]]\n"
     ]
    }
   ],
   "source": [
    "#convert 1 D array ke row vector dengan insert ke axis ,1 dimensi\n",
    "row_vector = a[np.newaxis, :]\n",
    "print(row_vector.shape)\n",
    "print(row_vector)"
   ]
  },
  {
   "cell_type": "code",
   "execution_count": 61,
   "id": "03ed790f",
   "metadata": {},
   "outputs": [
    {
     "name": "stdout",
     "output_type": "stream",
     "text": [
      "[[1]\n",
      " [2]\n",
      " [3]\n",
      " [4]\n",
      " [5]\n",
      " [6]]\n"
     ]
    }
   ],
   "source": [
    "# untuk vektor kolom, Anda dapat menyisipkan axis di sepanjang dimensi kedua\n",
    "\n",
    "col_vector = a[:, np.newaxis]\n",
    "col_vector.shape\n",
    "print(col_vector)"
   ]
  },
  {
   "cell_type": "code",
   "execution_count": 62,
   "id": "b195b67c",
   "metadata": {},
   "outputs": [
    {
     "data": {
      "text/plain": [
       "(6,)"
      ]
     },
     "execution_count": 62,
     "metadata": {},
     "output_type": "execute_result"
    }
   ],
   "source": [
    "a = np.array([1, 2, 3, 4, 5, 6])\n",
    "a.shape"
   ]
  },
  {
   "cell_type": "code",
   "execution_count": 63,
   "id": "4281b5bb",
   "metadata": {},
   "outputs": [
    {
     "name": "stdout",
     "output_type": "stream",
     "text": [
      "[[1]\n",
      " [2]\n",
      " [3]\n",
      " [4]\n",
      " [5]\n",
      " [6]]\n"
     ]
    }
   ],
   "source": [
    "# You can use np.expand_dims to add an axis at index position 1 with:\n",
    "\n",
    "b = np.expand_dims(a, axis=1)\n",
    "b.shape\n",
    "print(b)"
   ]
  },
  {
   "cell_type": "code",
   "execution_count": 64,
   "id": "08eb3446",
   "metadata": {},
   "outputs": [
    {
     "name": "stdout",
     "output_type": "stream",
     "text": [
      "[[1 2 3 4 5 6]]\n"
     ]
    }
   ],
   "source": [
    "# You can add an axis at index position 0 with:\n",
    "\n",
    "c = np.expand_dims(a, axis=0)\n",
    "c.shape\n",
    "print(c)"
   ]
  },
  {
   "cell_type": "markdown",
   "id": "bfde64b4",
   "metadata": {},
   "source": [
    "##### Indexing and Slicing"
   ]
  },
  {
   "cell_type": "code",
   "execution_count": 65,
   "id": "5f325b7e",
   "metadata": {},
   "outputs": [
    {
     "name": "stdout",
     "output_type": "stream",
     "text": [
      "[1 2 3]\n"
     ]
    }
   ],
   "source": [
    "data = np.array([1,2,3])\n",
    "print(data)"
   ]
  },
  {
   "cell_type": "code",
   "execution_count": 66,
   "id": "1eeb71c3",
   "metadata": {},
   "outputs": [
    {
     "name": "stdout",
     "output_type": "stream",
     "text": [
      "1\n",
      "2\n"
     ]
    }
   ],
   "source": [
    "print(data[0])\n",
    "print(data[1])"
   ]
  },
  {
   "cell_type": "code",
   "execution_count": 67,
   "id": "b2335b6d",
   "metadata": {},
   "outputs": [
    {
     "name": "stdout",
     "output_type": "stream",
     "text": [
      "[1 2]\n"
     ]
    }
   ],
   "source": [
    "print(data[0:2])"
   ]
  },
  {
   "cell_type": "code",
   "execution_count": 68,
   "id": "8972114e",
   "metadata": {},
   "outputs": [
    {
     "name": "stdout",
     "output_type": "stream",
     "text": [
      "[2 3]\n"
     ]
    }
   ],
   "source": [
    "print(data[1:])"
   ]
  },
  {
   "cell_type": "code",
   "execution_count": 69,
   "id": "9a54b8b7",
   "metadata": {},
   "outputs": [
    {
     "name": "stdout",
     "output_type": "stream",
     "text": [
      "[2 3]\n"
     ]
    }
   ],
   "source": [
    "print(data[-2:])"
   ]
  },
  {
   "cell_type": "markdown",
   "id": "1c4705fa",
   "metadata": {},
   "source": [
    "#### mengambil bagian dari array atau elemen tertentu"
   ]
  },
  {
   "cell_type": "code",
   "execution_count": 70,
   "id": "e498fd0a",
   "metadata": {},
   "outputs": [
    {
     "name": "stdout",
     "output_type": "stream",
     "text": [
      "[[ 1  2  3  4]\n",
      " [ 5  6  7  8]\n",
      " [ 9 10 11 12]]\n"
     ]
    }
   ],
   "source": [
    "a = np.array([[1 , 2, 3, 4], [5, 6, 7, 8], [9, 10, 11, 12]])\n",
    "print(a)"
   ]
  },
  {
   "cell_type": "code",
   "execution_count": 71,
   "id": "847ecec8",
   "metadata": {},
   "outputs": [
    {
     "name": "stdout",
     "output_type": "stream",
     "text": [
      "[1 2 3 4]\n"
     ]
    }
   ],
   "source": [
    "# mencetak semua nilai dalam array yang kurang dari 5\n",
    "\n",
    "print(a[a<5])"
   ]
  },
  {
   "cell_type": "code",
   "execution_count": 72,
   "id": "d1c214de",
   "metadata": {},
   "outputs": [
    {
     "name": "stdout",
     "output_type": "stream",
     "text": [
      "[ 5  6  7  8  9 10 11 12]\n"
     ]
    }
   ],
   "source": [
    "## misalnya, angka yang sama dengan atau lebih besar dari 5, dan menggunakan kondisi tersebut untuk mengindeks array.\n",
    "five_up = (a >= 5)\n",
    "\n",
    "print(a[five_up])"
   ]
  },
  {
   "cell_type": "code",
   "execution_count": 73,
   "id": "5b02a1e6",
   "metadata": {},
   "outputs": [
    {
     "name": "stdout",
     "output_type": "stream",
     "text": [
      "[ 2  4  6  8 10 12]\n"
     ]
    }
   ],
   "source": [
    "# memilih elemen yang habis dibagi 2\n",
    "divisible_by_2 = a[a%2==0]\n",
    "\n",
    "print(divisible_by_2)"
   ]
  },
  {
   "cell_type": "code",
   "execution_count": 74,
   "id": "d3c1e520",
   "metadata": {},
   "outputs": [
    {
     "name": "stdout",
     "output_type": "stream",
     "text": [
      "[ 3  4  5  6  7  8  9 10]\n"
     ]
    }
   ],
   "source": [
    "# memilih elemen yang memenuhi dua kondisi menggunakan & dan | operator\n",
    "\n",
    "c = a[(a > 2) & (a < 11)]\n",
    "\n",
    "print(c)"
   ]
  },
  {
   "cell_type": "markdown",
   "id": "d97c6ab1",
   "metadata": {},
   "source": [
    "#### Creating Array from Existing Data\n",
    "    slicing indexing\n",
    "    np.vstack()\n",
    "    np.hstack()\n",
    "    np.hsplit()\n",
    "    .view()\n",
    "    .copy("
   ]
  },
  {
   "cell_type": "code",
   "execution_count": 75,
   "id": "ec570929",
   "metadata": {},
   "outputs": [
    {
     "data": {
      "text/plain": [
       "array([4, 5, 6, 7, 8])"
      ]
     },
     "execution_count": 75,
     "metadata": {},
     "output_type": "execute_result"
    }
   ],
   "source": [
    "arr = np.array([ 1,  2,  3,  4,  5,  6,  7,  8,  9, 10])\n",
    "arr1 = arr[3:8]\n",
    "arr1"
   ]
  },
  {
   "cell_type": "markdown",
   "id": "2c1c8d20",
   "metadata": {},
   "source": [
    "#### Menumpuk dua array yang ada"
   ]
  },
  {
   "cell_type": "code",
   "execution_count": 76,
   "id": "bc8b6e1e",
   "metadata": {},
   "outputs": [],
   "source": [
    "a_1 = np.array([[1, 1],\n",
    "                [2, 2]])"
   ]
  },
  {
   "cell_type": "code",
   "execution_count": 77,
   "id": "2bf0a37f",
   "metadata": {},
   "outputs": [],
   "source": [
    "a_2 = np.array([[3, 3],\n",
    "                [4, 4]])"
   ]
  },
  {
   "cell_type": "code",
   "execution_count": 78,
   "id": "4a7068f6",
   "metadata": {},
   "outputs": [
    {
     "data": {
      "text/plain": [
       "array([[1, 1],\n",
       "       [2, 2],\n",
       "       [3, 3],\n",
       "       [4, 4]])"
      ]
     },
     "execution_count": 78,
     "metadata": {},
     "output_type": "execute_result"
    }
   ],
   "source": [
    "np.vstack((a_1, a_2)) #Vertical"
   ]
  },
  {
   "cell_type": "code",
   "execution_count": 80,
   "id": "2957d449",
   "metadata": {},
   "outputs": [
    {
     "data": {
      "text/plain": [
       "array([[1, 1, 3, 3],\n",
       "       [2, 2, 4, 4]])"
      ]
     },
     "execution_count": 80,
     "metadata": {},
     "output_type": "execute_result"
    }
   ],
   "source": [
    "np.hstack((a_1, a_2)) #Horizon"
   ]
  },
  {
   "cell_type": "markdown",
   "id": "1040a60c",
   "metadata": {},
   "source": [
    "#### Membagi sebuah array menjadi beberapa array yang lebih kecil"
   ]
  },
  {
   "cell_type": "code",
   "execution_count": 81,
   "id": "e42f9212",
   "metadata": {},
   "outputs": [
    {
     "name": "stdout",
     "output_type": "stream",
     "text": [
      "[[ 1  2  3  4  5  6  7  8  9 10 11 12]\n",
      " [13 14 15 16 17 18 19 20 21 22 23 24]]\n"
     ]
    }
   ],
   "source": [
    "arrsplit = np.array([[1,  2,  3,  4,  5,  6,  7,  8,  9, 10, 11, 12],\n",
    "                     [13, 14, 15, 16, 17, 18, 19, 20, 21, 22, 23,24]])\n",
    "print(arrsplit)"
   ]
  },
  {
   "cell_type": "code",
   "execution_count": 82,
   "id": "04af5034",
   "metadata": {},
   "outputs": [
    {
     "data": {
      "text/plain": [
       "[array([[ 1,  2,  3,  4],\n",
       "        [13, 14, 15, 16]]),\n",
       " array([[ 5,  6,  7,  8],\n",
       "        [17, 18, 19, 20]]),\n",
       " array([[ 9, 10, 11, 12],\n",
       "        [21, 22, 23, 24]])]"
      ]
     },
     "execution_count": 82,
     "metadata": {},
     "output_type": "execute_result"
    }
   ],
   "source": [
    "# membagi array ini menjadi tiga array yang sama bentuknya\n",
    "np.hsplit(arrsplit,3)"
   ]
  },
  {
   "cell_type": "markdown",
   "id": "05a1a1c2",
   "metadata": {},
   "source": [
    "#### membuat objek array baru yang melihat data yang sama dengan array asli"
   ]
  },
  {
   "cell_type": "code",
   "execution_count": 84,
   "id": "1dab2d52",
   "metadata": {},
   "outputs": [
    {
     "data": {
      "text/plain": [
       "array([[ 1,  2,  3,  4],\n",
       "       [ 5,  6,  7,  8],\n",
       "       [ 9, 10, 11, 12]])"
      ]
     },
     "execution_count": 84,
     "metadata": {},
     "output_type": "execute_result"
    }
   ],
   "source": [
    "a = np.array([[1 , 2, 3, 4], [5, 6, 7, 8], [9, 10, 11, 12]])\n",
    "a"
   ]
  },
  {
   "cell_type": "code",
   "execution_count": 86,
   "id": "348a314d",
   "metadata": {},
   "outputs": [
    {
     "data": {
      "text/plain": [
       "array([[ 1,  2,  3,  4],\n",
       "       [ 5,  6,  7,  8],\n",
       "       [ 9, 10, 11, 12]])"
      ]
     },
     "execution_count": 86,
     "metadata": {},
     "output_type": "execute_result"
    }
   ],
   "source": [
    "# membuat objek array baru yang melihat data yang sama\n",
    "\n",
    "b = a.view()\n",
    "b"
   ]
  },
  {
   "cell_type": "code",
   "execution_count": 87,
   "id": "a802eabb",
   "metadata": {},
   "outputs": [
    {
     "data": {
      "text/plain": [
       "array([[ 1,  2,  3,  4],\n",
       "       [ 5,  6,  7,  8],\n",
       "       [ 9, 10, 11, 12]])"
      ]
     },
     "execution_count": 87,
     "metadata": {},
     "output_type": "execute_result"
    }
   ],
   "source": [
    "# membuat salinan\n",
    "c = a.copy()\n",
    "c"
   ]
  },
  {
   "cell_type": "markdown",
   "id": "a84757a9",
   "metadata": {},
   "source": [
    "#### Basic array operations"
   ]
  },
  {
   "cell_type": "code",
   "execution_count": null,
   "id": "73dd6af5",
   "metadata": {},
   "outputs": [],
   "source": [
    "data - ones\n",
    "data * data\n",
    "data / data"
   ]
  },
  {
   "cell_type": "code",
   "execution_count": 88,
   "id": "bf54fac7",
   "metadata": {},
   "outputs": [
    {
     "data": {
      "text/plain": [
       "10"
      ]
     },
     "execution_count": 88,
     "metadata": {},
     "output_type": "execute_result"
    }
   ],
   "source": [
    "a = np.array([1, 2, 3, 4])\n",
    "\n",
    "# menambahkan semua elemen dalam array\n",
    "a.sum()"
   ]
  },
  {
   "cell_type": "code",
   "execution_count": 89,
   "id": "a6a45bd4",
   "metadata": {},
   "outputs": [
    {
     "name": "stdout",
     "output_type": "stream",
     "text": [
      "[[1 1]\n",
      " [2 2]]\n"
     ]
    }
   ],
   "source": [
    "b = np.array([[1, 1], [2, 2]])\n",
    "print(b)"
   ]
  },
  {
   "cell_type": "code",
   "execution_count": 90,
   "id": "1aa3481c",
   "metadata": {},
   "outputs": [
    {
     "data": {
      "text/plain": [
       "array([3, 3])"
      ]
     },
     "execution_count": 90,
     "metadata": {},
     "output_type": "execute_result"
    }
   ],
   "source": [
    "# Anda dapat menjumlahkan baris\n",
    "b.sum(axis=0)"
   ]
  },
  {
   "cell_type": "code",
   "execution_count": 91,
   "id": "d5e0511f",
   "metadata": {},
   "outputs": [
    {
     "data": {
      "text/plain": [
       "array([2, 4])"
      ]
     },
     "execution_count": 91,
     "metadata": {},
     "output_type": "execute_result"
    }
   ],
   "source": [
    "# Anda dapat menjumlahkan kolom\n",
    "b.sum(axis=1)"
   ]
  },
  {
   "cell_type": "code",
   "execution_count": 92,
   "id": "8a595286",
   "metadata": {},
   "outputs": [
    {
     "data": {
      "text/plain": [
       "array([1, 2])"
      ]
     },
     "execution_count": 92,
     "metadata": {},
     "output_type": "execute_result"
    }
   ],
   "source": [
    "data = np.array([1,2])\n",
    "data"
   ]
  },
  {
   "cell_type": "code",
   "execution_count": 93,
   "id": "603d11f6",
   "metadata": {},
   "outputs": [
    {
     "name": "stdout",
     "output_type": "stream",
     "text": [
      "[1. 1.]\n"
     ]
    }
   ],
   "source": [
    "ones = np.ones(2)\n",
    "print(ones)"
   ]
  },
  {
   "cell_type": "code",
   "execution_count": 94,
   "id": "312ff203",
   "metadata": {},
   "outputs": [
    {
     "data": {
      "text/plain": [
       "array([2., 3.])"
      ]
     },
     "execution_count": 94,
     "metadata": {},
     "output_type": "execute_result"
    }
   ],
   "source": [
    "data + ones"
   ]
  },
  {
   "cell_type": "code",
   "execution_count": 95,
   "id": "072ccb0a",
   "metadata": {},
   "outputs": [
    {
     "data": {
      "text/plain": [
       "array([1, 4])"
      ]
     },
     "execution_count": 95,
     "metadata": {},
     "output_type": "execute_result"
    }
   ],
   "source": [
    "data * data "
   ]
  },
  {
   "cell_type": "code",
   "execution_count": 96,
   "id": "5d38f228",
   "metadata": {},
   "outputs": [
    {
     "data": {
      "text/plain": [
       "array([1., 1.])"
      ]
     },
     "execution_count": 96,
     "metadata": {},
     "output_type": "execute_result"
    }
   ],
   "source": [
    "data / data "
   ]
  },
  {
   "cell_type": "markdown",
   "id": "b46c8219",
   "metadata": {},
   "source": [
    "#### Broadcasting"
   ]
  },
  {
   "cell_type": "markdown",
   "id": "02044646",
   "metadata": {},
   "source": [
    "    Broadcasting adalah mekanisme yang memungkinkan NumPy untuk melakukan operasi pada array dari berbagai bentuk. \n",
    "    Dimensi array Anda harus kompatibel, misalnya, ketika dimensi kedua array sama \n",
    "    atau ketika salah satunya adalah 1. Jika dimensi tidak kompatibel, Anda akan mendapatkan kesalahan nilai."
   ]
  },
  {
   "cell_type": "code",
   "execution_count": 98,
   "id": "3be78bbe",
   "metadata": {},
   "outputs": [
    {
     "name": "stdout",
     "output_type": "stream",
     "text": [
      "[1 2]\n",
      "[2 4]\n"
     ]
    }
   ],
   "source": [
    "print(data)\n",
    "print(data * 2) "
   ]
  },
  {
   "cell_type": "markdown",
   "id": "679bfdf6",
   "metadata": {},
   "source": [
    "#### Function"
   ]
  },
  {
   "cell_type": "code",
   "execution_count": 99,
   "id": "32d8db2b",
   "metadata": {},
   "outputs": [
    {
     "name": "stdout",
     "output_type": "stream",
     "text": [
      "5\n"
     ]
    }
   ],
   "source": [
    "np.random.seed(0)\n",
    "print(np.random.randint(10))"
   ]
  },
  {
   "cell_type": "code",
   "execution_count": 100,
   "id": "cbbf0b19",
   "metadata": {},
   "outputs": [
    {
     "name": "stdout",
     "output_type": "stream",
     "text": [
      "[74 77 77 19 93 31]\n"
     ]
    }
   ],
   "source": [
    "random_arr = np.random.randint(10,100,6) # dari 10 ke 100 sebanyak 6 \n",
    "print(random_arr)"
   ]
  },
  {
   "cell_type": "code",
   "execution_count": 101,
   "id": "9255b75a",
   "metadata": {},
   "outputs": [
    {
     "name": "stdout",
     "output_type": "stream",
     "text": [
      "array([[47, 50],\n",
      "       [67, 70]])\n"
     ]
    }
   ],
   "source": [
    "np.random.seed(0)\n",
    "random_arr = np.random.randint(3, high=100,\n",
    "                               size=(2, 2)) ## randint(low, high=None, size=None, dtype=int)\n",
    "\n",
    "print(repr(random_arr))"
   ]
  },
  {
   "cell_type": "code",
   "execution_count": 102,
   "id": "4d688c71",
   "metadata": {},
   "outputs": [
    {
     "name": "stdout",
     "output_type": "stream",
     "text": [
      "array([[43, 18],\n",
      "       [75, 25]])\n"
     ]
    }
   ],
   "source": [
    "\n",
    "# New seed\n",
    "np.random.seed(2)\n",
    "\n",
    "random_arr = np.random.randint(3, high=100,\n",
    "                               size=(2, 2))\n",
    "print(repr(random_arr))"
   ]
  },
  {
   "cell_type": "code",
   "execution_count": 103,
   "id": "fdb7a9ec",
   "metadata": {},
   "outputs": [
    {
     "name": "stdout",
     "output_type": "stream",
     "text": [
      "array([[47, 50],\n",
      "       [67, 70]])\n"
     ]
    }
   ],
   "source": [
    "# Original seed\n",
    "np.random.seed(0)\n",
    "random_arr = np.random.randint(3, high=100,\n",
    "                               size=(2, 2))\n",
    "print(repr(random_arr))"
   ]
  },
  {
   "cell_type": "markdown",
   "id": "0300a899",
   "metadata": {},
   "source": [
    "#### More Array Operation"
   ]
  },
  {
   "cell_type": "markdown",
   "id": "d7430bbc",
   "metadata": {},
   "source": [
    "Maximum, minimum, sum, mean, product, standard deviation, and more\n",
    "data.max()\n",
    "data.min()\n",
    "data.sum()"
   ]
  },
  {
   "cell_type": "code",
   "execution_count": 105,
   "id": "e2b8b95b",
   "metadata": {},
   "outputs": [
    {
     "name": "stdout",
     "output_type": "stream",
     "text": [
      "[[0.45053314 0.17296777 0.34376245 0.5510652 ]\n",
      " [0.54627315 0.05093587 0.40067661 0.55645993]\n",
      " [0.12697628 0.82485143 0.26590556 0.56917101]]\n"
     ]
    }
   ],
   "source": [
    "A = np.array([[0.45053314, 0.17296777, 0.34376245, 0.5510652],\n",
    "              [0.54627315, 0.05093587, 0.40067661, 0.55645993],\n",
    "              [0.12697628, 0.82485143, 0.26590556, 0.56917101]])\n",
    "\n",
    "print(A)"
   ]
  },
  {
   "cell_type": "code",
   "execution_count": 106,
   "id": "309c2a64",
   "metadata": {},
   "outputs": [
    {
     "data": {
      "text/plain": [
       "4.8595784"
      ]
     },
     "execution_count": 106,
     "metadata": {},
     "output_type": "execute_result"
    }
   ],
   "source": [
    "A.sum()"
   ]
  },
  {
   "cell_type": "code",
   "execution_count": 107,
   "id": "1eceab69",
   "metadata": {},
   "outputs": [
    {
     "data": {
      "text/plain": [
       "0.05093587"
      ]
     },
     "execution_count": 107,
     "metadata": {},
     "output_type": "execute_result"
    }
   ],
   "source": [
    "A.min()"
   ]
  },
  {
   "cell_type": "code",
   "execution_count": 108,
   "id": "344a95a2",
   "metadata": {},
   "outputs": [
    {
     "data": {
      "text/plain": [
       "array([0.12697628, 0.05093587, 0.26590556, 0.5510652 ])"
      ]
     },
     "execution_count": 108,
     "metadata": {},
     "output_type": "execute_result"
    }
   ],
   "source": [
    "A.min(axis=0)"
   ]
  },
  {
   "cell_type": "code",
   "execution_count": 109,
   "id": "d6559634",
   "metadata": {},
   "outputs": [
    {
     "data": {
      "text/plain": [
       "array([0.17296777, 0.05093587, 0.12697628])"
      ]
     },
     "execution_count": 109,
     "metadata": {},
     "output_type": "execute_result"
    }
   ],
   "source": [
    "A.min(axis=1)"
   ]
  },
  {
   "cell_type": "code",
   "execution_count": 110,
   "id": "354f9dfc",
   "metadata": {},
   "outputs": [
    {
     "data": {
      "text/plain": [
       "0.21392120766089617"
      ]
     },
     "execution_count": 110,
     "metadata": {},
     "output_type": "execute_result"
    }
   ],
   "source": [
    "A.std()"
   ]
  },
  {
   "cell_type": "code",
   "execution_count": 111,
   "id": "e558b32b",
   "metadata": {},
   "outputs": [
    {
     "name": "stdout",
     "output_type": "stream",
     "text": [
      "[0.17296777 0.05093587 0.12697628]\n"
     ]
    }
   ],
   "source": [
    "dataA = A.min(axis=1)\n",
    "print(dataA)"
   ]
  },
  {
   "cell_type": "code",
   "execution_count": 112,
   "id": "078c9788",
   "metadata": {},
   "outputs": [
    {
     "name": "stdout",
     "output_type": "stream",
     "text": [
      "1\n"
     ]
    }
   ],
   "source": [
    "print(dataA.argmin()) ## posisi index"
   ]
  },
  {
   "cell_type": "code",
   "execution_count": 113,
   "id": "7e1283e3",
   "metadata": {},
   "outputs": [
    {
     "name": "stdout",
     "output_type": "stream",
     "text": [
      "0\n"
     ]
    }
   ],
   "source": [
    "print(dataA.argmax()) ## posisi index "
   ]
  },
  {
   "cell_type": "markdown",
   "id": "a5e6def0",
   "metadata": {},
   "source": [
    "#### save array into file "
   ]
  },
  {
   "cell_type": "code",
   "execution_count": 114,
   "id": "bca9ed57",
   "metadata": {},
   "outputs": [
    {
     "name": "stdout",
     "output_type": "stream",
     "text": [
      "[[0.45053314 0.17296777 0.34376245 0.5510652 ]\n",
      " [0.54627315 0.05093587 0.40067661 0.55645993]\n",
      " [0.12697628 0.82485143 0.26590556 0.56917101]]\n"
     ]
    }
   ],
   "source": [
    "A = np.array([[0.45053314, 0.17296777, 0.34376245, 0.5510652],\n",
    "              [0.54627315, 0.05093587, 0.40067661, 0.55645993],\n",
    "              [0.12697628, 0.82485143, 0.26590556, 0.56917101]])\n",
    "\n",
    "print(A)"
   ]
  },
  {
   "cell_type": "code",
   "execution_count": 115,
   "id": "a6b103d8",
   "metadata": {},
   "outputs": [],
   "source": [
    "np.save(\"myarray2.npy\",A)"
   ]
  },
  {
   "cell_type": "code",
   "execution_count": 116,
   "id": "d4e2db5d",
   "metadata": {},
   "outputs": [
    {
     "name": "stdout",
     "output_type": "stream",
     "text": [
      "[[0.45053314 0.17296777 0.34376245 0.5510652 ]\n",
      " [0.54627315 0.05093587 0.40067661 0.55645993]\n",
      " [0.12697628 0.82485143 0.26590556 0.56917101]]\n"
     ]
    }
   ],
   "source": [
    "responseFile = np.load('myarray2.npy')\n",
    "print(responseFile)"
   ]
  },
  {
   "cell_type": "markdown",
   "id": "212b96db",
   "metadata": {},
   "source": [
    "## Latihan \n",
    "\n",
    "Buat lah Array \n",
    "```\n",
    "[[  0  72   3]\n",
    " [  1   3 -60]\n",
    " [ -3  -2   4]]\n",
    "``` \n",
    "\n",
    "Simpan file Array tersebut \n",
    "Kemudian lakukan load file Array \n",
    "\n",
    "lakukan pencarian data dibawah ini \n",
    "\n",
    "Temukan Nilai minum dan maksimum pada file tersebut \n",
    "\n",
    "Temukan Nilai minum di setiap kolom \n",
    "Temukan Nilai Maksimum di setiap Kolom \n",
    "Menemukan Nilai Minimum di setiap baris \n",
    "Menemukan Nilai Maksimum di setiap baris "
   ]
  },
  {
   "cell_type": "code",
   "execution_count": 118,
   "id": "d533692c",
   "metadata": {},
   "outputs": [
    {
     "name": "stdout",
     "output_type": "stream",
     "text": [
      "[[  0  72   3]\n",
      " [  1   3 -60]\n",
      " [ -3  -2   4]]\n"
     ]
    }
   ],
   "source": [
    "arr = np.array([[0, 72, 3],\n",
    "                [1, 3, -60],\n",
    "                [-3, -2, 4]])\n",
    "print(arr)"
   ]
  },
  {
   "cell_type": "code",
   "execution_count": 119,
   "id": "4aa68b0e",
   "metadata": {},
   "outputs": [],
   "source": [
    "np.save(\"myarray3.npy\",arr)\n"
   ]
  },
  {
   "cell_type": "code",
   "execution_count": 120,
   "id": "0d233ebc",
   "metadata": {},
   "outputs": [
    {
     "name": "stdout",
     "output_type": "stream",
     "text": [
      "[[  0  72   3]\n",
      " [  1   3 -60]\n",
      " [ -3  -2   4]]\n"
     ]
    }
   ],
   "source": [
    "resfile = np.load('myarray3.npy')\n",
    "print(resfile)"
   ]
  },
  {
   "cell_type": "code",
   "execution_count": 121,
   "id": "c6b82d36",
   "metadata": {},
   "outputs": [
    {
     "name": "stdout",
     "output_type": "stream",
     "text": [
      "-60\n",
      "72\n",
      "array([ -3,  -2, -60])\n",
      "array([ 1, 72,  4])\n",
      "array([72,  3,  4])\n",
      "array([  0, -60,  -3])\n"
     ]
    }
   ],
   "source": [
    "print(resfile.min())\n",
    "print(resfile.max())\n",
    "\n",
    "print(repr(resfile.min(axis=0)))\n",
    "print(repr(resfile.max(axis=0)))\n",
    "\n",
    "print(repr(resfile.max(axis=-1)))\n",
    "print(repr(resfile.min(axis=-1)))"
   ]
  },
  {
   "cell_type": "markdown",
   "id": "7726789c",
   "metadata": {},
   "source": [
    "#### Matrices"
   ]
  },
  {
   "cell_type": "markdown",
   "id": "c4da7b9d",
   "metadata": {},
   "source": [
    "Membuat Matriks"
   ]
  },
  {
   "cell_type": "code",
   "execution_count": 123,
   "id": "bd400109",
   "metadata": {},
   "outputs": [
    {
     "data": {
      "text/plain": [
       "array([[0.27265629, 0.47766512],\n",
       "       [0.81216873, 0.47997717],\n",
       "       [0.3927848 , 0.83607876]])"
      ]
     },
     "execution_count": 123,
     "metadata": {},
     "output_type": "execute_result"
    }
   ],
   "source": [
    "np.ones((3,2))\n",
    "np.zeros((3,2))\n",
    "np.random.random((3,2))"
   ]
  },
  {
   "cell_type": "code",
   "execution_count": 122,
   "id": "41e07d2d",
   "metadata": {},
   "outputs": [
    {
     "name": "stdout",
     "output_type": "stream",
     "text": [
      "[[1. 1.]\n",
      " [1. 1.]\n",
      " [1. 1.]]\n",
      "[[0. 0.]\n",
      " [0. 0.]\n",
      " [0. 0.]]\n",
      "[[0.85794562 0.84725174]\n",
      " [0.6235637  0.38438171]\n",
      " [0.29753461 0.05671298]]\n"
     ]
    }
   ],
   "source": [
    "print(np.ones((3,2)))\n",
    "print(np.zeros((3,2)))\n",
    "print(np.random.random((3,2)))"
   ]
  },
  {
   "cell_type": "markdown",
   "id": "d3b447f5",
   "metadata": {},
   "source": [
    "#### Matrix Arithmetic"
   ]
  },
  {
   "cell_type": "markdown",
   "id": "1991c3c2",
   "metadata": {},
   "source": [
    "dapat menjumlahkan dan mengalikan matriks menggunakan operator aritmatika (+ - * / ) \n",
    "Jika kedua matriks tersebut berukuran sama. \n",
    "Numpy menangani sebagai position-wise operations. "
   ]
  },
  {
   "cell_type": "code",
   "execution_count": 125,
   "id": "44ff6a1d",
   "metadata": {},
   "outputs": [
    {
     "name": "stdout",
     "output_type": "stream",
     "text": [
      "[[1 2]\n",
      " [3 4]]\n"
     ]
    }
   ],
   "source": [
    "data = np.array([[1,2],[3,4]])\n",
    "print(data)"
   ]
  },
  {
   "cell_type": "code",
   "execution_count": 126,
   "id": "af273500",
   "metadata": {},
   "outputs": [
    {
     "name": "stdout",
     "output_type": "stream",
     "text": [
      "[[1. 1.]\n",
      " [1. 1.]]\n"
     ]
    }
   ],
   "source": [
    "ones = np.ones([2,2]) \n",
    "print(ones)"
   ]
  },
  {
   "cell_type": "code",
   "execution_count": 127,
   "id": "c98b88b8",
   "metadata": {},
   "outputs": [
    {
     "name": "stdout",
     "output_type": "stream",
     "text": [
      "[[2. 3.]\n",
      " [4. 5.]]\n"
     ]
    }
   ],
   "source": [
    "print(data+ones)"
   ]
  },
  {
   "cell_type": "code",
   "execution_count": 128,
   "id": "d30ca4e5",
   "metadata": {},
   "outputs": [
    {
     "name": "stdout",
     "output_type": "stream",
     "text": [
      "[[1. 1.]]\n"
     ]
    }
   ],
   "source": [
    "ones_row = np.ones([1,2])\n",
    "print(ones_row)"
   ]
  },
  {
   "cell_type": "code",
   "execution_count": 129,
   "id": "949b5ede",
   "metadata": {},
   "outputs": [
    {
     "name": "stdout",
     "output_type": "stream",
     "text": [
      "[[2. 3.]\n",
      " [4. 5.]]\n"
     ]
    }
   ],
   "source": [
    "print(data + ones_row)"
   ]
  },
  {
   "cell_type": "code",
   "execution_count": 130,
   "id": "98bc6d92",
   "metadata": {},
   "outputs": [
    {
     "name": "stdout",
     "output_type": "stream",
     "text": [
      "[[1 2]\n",
      " [3 4]\n",
      " [5 6]]\n"
     ]
    }
   ],
   "source": [
    "data1 = np.array([[1,2],[3,4],[5,6]])\n",
    "print(data1)"
   ]
  },
  {
   "cell_type": "code",
   "execution_count": 131,
   "id": "8385668b",
   "metadata": {},
   "outputs": [
    {
     "name": "stdout",
     "output_type": "stream",
     "text": [
      "[[2. 3.]\n",
      " [4. 5.]\n",
      " [6. 7.]]\n"
     ]
    }
   ],
   "source": [
    "print(data1 + ones_row)"
   ]
  },
  {
   "cell_type": "code",
   "execution_count": 132,
   "id": "6f3e7d76",
   "metadata": {},
   "outputs": [
    {
     "name": "stdout",
     "output_type": "stream",
     "text": [
      "[[1 2 3]\n",
      " [4 5 6]]\n"
     ]
    }
   ],
   "source": [
    "data2 = np.array([[1,2,3],[4,5,6]])\n",
    "print(data2)"
   ]
  },
  {
   "cell_type": "markdown",
   "id": "fbfd27d3",
   "metadata": {},
   "source": [
    "#### Dot Product \n",
    "    \n",
    "    Perbedaan utama yang harus dibuat dengan aritmatika adalah kasus perkalian matriks menggunakan produk titik. NumPy memberikan setiap matriks metode dot() yang dapat kita gunakan untuk melakukan operasi p"
   ]
  },
  {
   "cell_type": "code",
   "execution_count": 133,
   "id": "6df6567c",
   "metadata": {},
   "outputs": [
    {
     "data": {
      "text/plain": [
       "12"
      ]
     },
     "execution_count": 133,
     "metadata": {},
     "output_type": "execute_result"
    }
   ],
   "source": [
    "np.dot(3, 4)"
   ]
  },
  {
   "cell_type": "code",
   "execution_count": 134,
   "id": "fc4e7902",
   "metadata": {},
   "outputs": [
    {
     "name": "stdout",
     "output_type": "stream",
     "text": [
      "[[[[  0   1   2   3   4   5]\n",
      "   [  6   7   8   9  10  11]\n",
      "   [ 12  13  14  15  16  17]\n",
      "   [ 18  19  20  21  22  23]\n",
      "   [ 24  25  26  27  28  29]]\n",
      "\n",
      "  [[ 30  31  32  33  34  35]\n",
      "   [ 36  37  38  39  40  41]\n",
      "   [ 42  43  44  45  46  47]\n",
      "   [ 48  49  50  51  52  53]\n",
      "   [ 54  55  56  57  58  59]]\n",
      "\n",
      "  [[ 60  61  62  63  64  65]\n",
      "   [ 66  67  68  69  70  71]\n",
      "   [ 72  73  74  75  76  77]\n",
      "   [ 78  79  80  81  82  83]\n",
      "   [ 84  85  86  87  88  89]]\n",
      "\n",
      "  [[ 90  91  92  93  94  95]\n",
      "   [ 96  97  98  99 100 101]\n",
      "   [102 103 104 105 106 107]\n",
      "   [108 109 110 111 112 113]\n",
      "   [114 115 116 117 118 119]]]\n",
      "\n",
      "\n",
      " [[[120 121 122 123 124 125]\n",
      "   [126 127 128 129 130 131]\n",
      "   [132 133 134 135 136 137]\n",
      "   [138 139 140 141 142 143]\n",
      "   [144 145 146 147 148 149]]\n",
      "\n",
      "  [[150 151 152 153 154 155]\n",
      "   [156 157 158 159 160 161]\n",
      "   [162 163 164 165 166 167]\n",
      "   [168 169 170 171 172 173]\n",
      "   [174 175 176 177 178 179]]\n",
      "\n",
      "  [[180 181 182 183 184 185]\n",
      "   [186 187 188 189 190 191]\n",
      "   [192 193 194 195 196 197]\n",
      "   [198 199 200 201 202 203]\n",
      "   [204 205 206 207 208 209]]\n",
      "\n",
      "  [[210 211 212 213 214 215]\n",
      "   [216 217 218 219 220 221]\n",
      "   [222 223 224 225 226 227]\n",
      "   [228 229 230 231 232 233]\n",
      "   [234 235 236 237 238 239]]]\n",
      "\n",
      "\n",
      " [[[240 241 242 243 244 245]\n",
      "   [246 247 248 249 250 251]\n",
      "   [252 253 254 255 256 257]\n",
      "   [258 259 260 261 262 263]\n",
      "   [264 265 266 267 268 269]]\n",
      "\n",
      "  [[270 271 272 273 274 275]\n",
      "   [276 277 278 279 280 281]\n",
      "   [282 283 284 285 286 287]\n",
      "   [288 289 290 291 292 293]\n",
      "   [294 295 296 297 298 299]]\n",
      "\n",
      "  [[300 301 302 303 304 305]\n",
      "   [306 307 308 309 310 311]\n",
      "   [312 313 314 315 316 317]\n",
      "   [318 319 320 321 322 323]\n",
      "   [324 325 326 327 328 329]]\n",
      "\n",
      "  [[330 331 332 333 334 335]\n",
      "   [336 337 338 339 340 341]\n",
      "   [342 343 344 345 346 347]\n",
      "   [348 349 350 351 352 353]\n",
      "   [354 355 356 357 358 359]]]]\n"
     ]
    }
   ],
   "source": [
    "a = np.arange(3*4*5*6).reshape((3,4,5,6)) \n",
    "print(a)"
   ]
  },
  {
   "cell_type": "code",
   "execution_count": 135,
   "id": "7257616b",
   "metadata": {},
   "outputs": [
    {
     "name": "stdout",
     "output_type": "stream",
     "text": [
      "[[[[359 358 357]\n",
      "   [356 355 354]\n",
      "   [353 352 351]\n",
      "   [350 349 348]\n",
      "   [347 346 345]\n",
      "   [344 343 342]]\n",
      "\n",
      "  [[341 340 339]\n",
      "   [338 337 336]\n",
      "   [335 334 333]\n",
      "   [332 331 330]\n",
      "   [329 328 327]\n",
      "   [326 325 324]]\n",
      "\n",
      "  [[323 322 321]\n",
      "   [320 319 318]\n",
      "   [317 316 315]\n",
      "   [314 313 312]\n",
      "   [311 310 309]\n",
      "   [308 307 306]]\n",
      "\n",
      "  [[305 304 303]\n",
      "   [302 301 300]\n",
      "   [299 298 297]\n",
      "   [296 295 294]\n",
      "   [293 292 291]\n",
      "   [290 289 288]]]\n",
      "\n",
      "\n",
      " [[[287 286 285]\n",
      "   [284 283 282]\n",
      "   [281 280 279]\n",
      "   [278 277 276]\n",
      "   [275 274 273]\n",
      "   [272 271 270]]\n",
      "\n",
      "  [[269 268 267]\n",
      "   [266 265 264]\n",
      "   [263 262 261]\n",
      "   [260 259 258]\n",
      "   [257 256 255]\n",
      "   [254 253 252]]\n",
      "\n",
      "  [[251 250 249]\n",
      "   [248 247 246]\n",
      "   [245 244 243]\n",
      "   [242 241 240]\n",
      "   [239 238 237]\n",
      "   [236 235 234]]\n",
      "\n",
      "  [[233 232 231]\n",
      "   [230 229 228]\n",
      "   [227 226 225]\n",
      "   [224 223 222]\n",
      "   [221 220 219]\n",
      "   [218 217 216]]]\n",
      "\n",
      "\n",
      " [[[215 214 213]\n",
      "   [212 211 210]\n",
      "   [209 208 207]\n",
      "   [206 205 204]\n",
      "   [203 202 201]\n",
      "   [200 199 198]]\n",
      "\n",
      "  [[197 196 195]\n",
      "   [194 193 192]\n",
      "   [191 190 189]\n",
      "   [188 187 186]\n",
      "   [185 184 183]\n",
      "   [182 181 180]]\n",
      "\n",
      "  [[179 178 177]\n",
      "   [176 175 174]\n",
      "   [173 172 171]\n",
      "   [170 169 168]\n",
      "   [167 166 165]\n",
      "   [164 163 162]]\n",
      "\n",
      "  [[161 160 159]\n",
      "   [158 157 156]\n",
      "   [155 154 153]\n",
      "   [152 151 150]\n",
      "   [149 148 147]\n",
      "   [146 145 144]]]\n",
      "\n",
      "\n",
      " [[[143 142 141]\n",
      "   [140 139 138]\n",
      "   [137 136 135]\n",
      "   [134 133 132]\n",
      "   [131 130 129]\n",
      "   [128 127 126]]\n",
      "\n",
      "  [[125 124 123]\n",
      "   [122 121 120]\n",
      "   [119 118 117]\n",
      "   [116 115 114]\n",
      "   [113 112 111]\n",
      "   [110 109 108]]\n",
      "\n",
      "  [[107 106 105]\n",
      "   [104 103 102]\n",
      "   [101 100  99]\n",
      "   [ 98  97  96]\n",
      "   [ 95  94  93]\n",
      "   [ 92  91  90]]\n",
      "\n",
      "  [[ 89  88  87]\n",
      "   [ 86  85  84]\n",
      "   [ 83  82  81]\n",
      "   [ 80  79  78]\n",
      "   [ 77  76  75]\n",
      "   [ 74  73  72]]]\n",
      "\n",
      "\n",
      " [[[ 71  70  69]\n",
      "   [ 68  67  66]\n",
      "   [ 65  64  63]\n",
      "   [ 62  61  60]\n",
      "   [ 59  58  57]\n",
      "   [ 56  55  54]]\n",
      "\n",
      "  [[ 53  52  51]\n",
      "   [ 50  49  48]\n",
      "   [ 47  46  45]\n",
      "   [ 44  43  42]\n",
      "   [ 41  40  39]\n",
      "   [ 38  37  36]]\n",
      "\n",
      "  [[ 35  34  33]\n",
      "   [ 32  31  30]\n",
      "   [ 29  28  27]\n",
      "   [ 26  25  24]\n",
      "   [ 23  22  21]\n",
      "   [ 20  19  18]]\n",
      "\n",
      "  [[ 17  16  15]\n",
      "   [ 14  13  12]\n",
      "   [ 11  10   9]\n",
      "   [  8   7   6]\n",
      "   [  5   4   3]\n",
      "   [  2   1   0]]]]\n"
     ]
    }
   ],
   "source": [
    "b = np.arange(3*4*5*6)[::-1].reshape((5,4,6,3))\n",
    "print(b)"
   ]
  },
  {
   "cell_type": "code",
   "execution_count": 136,
   "id": "4cacb07b",
   "metadata": {},
   "outputs": [
    {
     "data": {
      "text/plain": [
       "499128"
      ]
     },
     "execution_count": 136,
     "metadata": {},
     "output_type": "execute_result"
    }
   ],
   "source": [
    "np.dot(a, b)[2,3,2,1,2,2]"
   ]
  },
  {
   "cell_type": "code",
   "execution_count": 137,
   "id": "06a0fbda",
   "metadata": {},
   "outputs": [
    {
     "data": {
      "text/plain": [
       "499128"
      ]
     },
     "execution_count": 137,
     "metadata": {},
     "output_type": "execute_result"
    }
   ],
   "source": [
    "sum(a[2,3,2,:] * b[1,2,:,2])"
   ]
  },
  {
   "cell_type": "markdown",
   "id": "e15a6ded",
   "metadata": {},
   "source": [
    "### Matrix Indexing\n",
    "    Operasi pengindeksan dan pemotongan menjadi lebih berguna saat kita memanipulasi matriks\n",
    "    \n",
    "    \n",
    "   ```np.array([[1, 2], [3, 4], [5, 6]])```\n",
    "\n",
    "    \n",
    "<img src=\"https://i.ibb.co/4sS8HGD/Screen-Shot-2021-09-02-at-8-26-34-AM.png\" align=\"left\"> \n"
   ]
  },
  {
   "cell_type": "code",
   "execution_count": 140,
   "id": "238d73b6",
   "metadata": {},
   "outputs": [
    {
     "name": "stdout",
     "output_type": "stream",
     "text": [
      "[[1 2]\n",
      " [3 4]\n",
      " [5 6]]\n"
     ]
    }
   ],
   "source": [
    "data = np.array([[1, 2], [3, 4], [5, 6]])\n",
    "\n",
    "print(data)"
   ]
  },
  {
   "cell_type": "code",
   "execution_count": 141,
   "id": "608f6de1",
   "metadata": {},
   "outputs": [
    {
     "name": "stdout",
     "output_type": "stream",
     "text": [
      "2\n"
     ]
    }
   ],
   "source": [
    "print(data[0,1])"
   ]
  },
  {
   "cell_type": "code",
   "execution_count": 142,
   "id": "721201f2",
   "metadata": {},
   "outputs": [
    {
     "name": "stdout",
     "output_type": "stream",
     "text": [
      "[[3 4]\n",
      " [5 6]]\n"
     ]
    }
   ],
   "source": [
    "print(data[1:3])"
   ]
  },
  {
   "cell_type": "code",
   "execution_count": 144,
   "id": "f1345b6c",
   "metadata": {},
   "outputs": [
    {
     "name": "stdout",
     "output_type": "stream",
     "text": [
      "[1 3]\n"
     ]
    }
   ],
   "source": [
    "print((data[0:2, 0]))"
   ]
  },
  {
   "cell_type": "code",
   "execution_count": 143,
   "id": "ec396a13",
   "metadata": {},
   "outputs": [
    {
     "name": "stdout",
     "output_type": "stream",
     "text": [
      "[[1 2]\n",
      " [3 4]\n",
      " [5 6]]\n"
     ]
    }
   ],
   "source": [
    "print((data[:]))"
   ]
  },
  {
   "cell_type": "code",
   "execution_count": 145,
   "id": "f60aa8b6",
   "metadata": {},
   "outputs": [
    {
     "name": "stdout",
     "output_type": "stream",
     "text": [
      "[2 4 6]\n"
     ]
    },
    {
     "data": {
      "text/plain": [
       "1"
      ]
     },
     "execution_count": 145,
     "metadata": {},
     "output_type": "execute_result"
    }
   ],
   "source": [
    "print(data[:, -1]) # -1 kanan\n",
    "xdata = data[:, -1]\n",
    "xdata.ndim  # 1 dimensi\n",
    "##xdata.shape"
   ]
  },
  {
   "cell_type": "code",
   "execution_count": 146,
   "id": "f0b163e8",
   "metadata": {},
   "outputs": [
    {
     "name": "stdout",
     "output_type": "stream",
     "text": [
      "[[2]\n",
      " [4]\n",
      " [6]]\n"
     ]
    },
    {
     "data": {
      "text/plain": [
       "2"
      ]
     },
     "execution_count": 146,
     "metadata": {},
     "output_type": "execute_result"
    }
   ],
   "source": [
    "print(data[:, 1:]) # -1 kanan\n",
    "xdata = data[:, 1:]\n",
    "xdata.ndim  # 2 dimensi\n",
    "#xdata.shape"
   ]
  },
  {
   "cell_type": "code",
   "execution_count": 147,
   "id": "4857865d",
   "metadata": {},
   "outputs": [
    {
     "name": "stdout",
     "output_type": "stream",
     "text": [
      "[[1 2]\n",
      " [3 4]\n",
      " [5 6]]\n"
     ]
    }
   ],
   "source": [
    "print(data[:, :]) "
   ]
  },
  {
   "cell_type": "code",
   "execution_count": 148,
   "id": "306898e8",
   "metadata": {},
   "outputs": [
    {
     "name": "stdout",
     "output_type": "stream",
     "text": [
      "[[1]\n",
      " [3]\n",
      " [5]]\n"
     ]
    }
   ],
   "source": [
    "print(data[:, 0:1]) "
   ]
  },
  {
   "cell_type": "code",
   "execution_count": 149,
   "id": "29d6f4d0",
   "metadata": {},
   "outputs": [
    {
     "name": "stdout",
     "output_type": "stream",
     "text": [
      "[[2]\n",
      " [4]\n",
      " [6]]\n"
     ]
    }
   ],
   "source": [
    "print(data[:, 1:2]) "
   ]
  },
  {
   "cell_type": "code",
   "execution_count": 150,
   "id": "2523ac91",
   "metadata": {},
   "outputs": [
    {
     "name": "stdout",
     "output_type": "stream",
     "text": [
      "[[2]\n",
      " [4]\n",
      " [6]]\n"
     ]
    }
   ],
   "source": [
    "print(data[:, 1:]) "
   ]
  },
  {
   "cell_type": "code",
   "execution_count": 151,
   "id": "b3e78394",
   "metadata": {},
   "outputs": [
    {
     "name": "stdout",
     "output_type": "stream",
     "text": [
      "[[1 2]\n",
      " [3 4]]\n"
     ]
    }
   ],
   "source": [
    "print((data[0:2,:]))"
   ]
  },
  {
   "cell_type": "code",
   "execution_count": 152,
   "id": "9b7c39e4",
   "metadata": {},
   "outputs": [
    {
     "name": "stdout",
     "output_type": "stream",
     "text": [
      "array([[2]])\n"
     ]
    }
   ],
   "source": [
    "print(repr(data[0:1, 1:]))"
   ]
  },
  {
   "cell_type": "markdown",
   "id": "cec9ec93",
   "metadata": {},
   "source": [
    "# Latihan Studi Kasus"
   ]
  },
  {
   "cell_type": "markdown",
   "id": "a8f47aab",
   "metadata": {},
   "source": [
    "10nbuah botol minum akan dibuat untuk menyimpan air dengan jari2 yang berbeda-beda. Besaran jari2 dan tinggi botol adalah bilangan bulat kisaran 7 sampai dengan 20 cm. \n",
    "\n",
    "Tentukan\n",
    "1. Volume air yang dapat disimpan di setiap botol\n",
    "2. Total volume air yang tersimpan dalam semua botol\n",
    "3. Botol mana yang volume air terkecil dan temukan volumenya\n",
    "4. Botol mana yang menampung volume air terbesar dan temukan volume airnya\n",
    "5. Rata-rata volume yang dapat ditampung di tiap botol"
   ]
  },
  {
   "cell_type": "code",
   "execution_count": 154,
   "id": "892a462c",
   "metadata": {},
   "outputs": [
    {
     "name": "stdout",
     "output_type": "stream",
     "text": [
      "[19 12  7 10 18 10 14 16 10 12  9 11 14 13 15 15 19 17  8 13]\n"
     ]
    }
   ],
   "source": [
    "import numpy as np\n",
    "np.random.seed(0)\n",
    "dataBotol = np.random.randint(7,20,20)\n",
    "print(dataBotol)"
   ]
  },
  {
   "cell_type": "code",
   "execution_count": 155,
   "id": "f7fc7f55",
   "metadata": {},
   "outputs": [
    {
     "name": "stdout",
     "output_type": "stream",
     "text": [
      "[[19 12]\n",
      " [ 7 10]\n",
      " [18 10]\n",
      " [14 16]\n",
      " [10 12]\n",
      " [ 9 11]\n",
      " [14 13]\n",
      " [15 15]\n",
      " [19 17]\n",
      " [ 8 13]]\n"
     ]
    }
   ],
   "source": [
    "dataBotol.resize(10,2)\n",
    "print(dataBotol)"
   ]
  },
  {
   "cell_type": "code",
   "execution_count": 156,
   "id": "46370f6e",
   "metadata": {},
   "outputs": [
    {
     "name": "stdout",
     "output_type": "stream",
     "text": [
      "[ 8595.39750022  2199.11485751  5654.86677646 11259.46807047\n",
      "  4523.89342117  3421.19439976  7433.00821839 10602.87520587\n",
      " 17250.48526086  4247.43326765]\n"
     ]
    }
   ],
   "source": [
    "## Tinggi kolom = 0\n",
    "## jari kolom = 1\n",
    "volume = np.pi * dataBotol[:,1]**2 * dataBotol[:,0]\n",
    "print(volume)"
   ]
  },
  {
   "cell_type": "code",
   "execution_count": 157,
   "id": "d05e3e58",
   "metadata": {},
   "outputs": [
    {
     "data": {
      "text/plain": [
       "75187.73697836453"
      ]
     },
     "execution_count": 157,
     "metadata": {},
     "output_type": "execute_result"
    }
   ],
   "source": [
    "volume.sum()"
   ]
  },
  {
   "cell_type": "code",
   "execution_count": 158,
   "id": "a200e380",
   "metadata": {},
   "outputs": [
    {
     "data": {
      "text/plain": [
       "2199.1148575128555"
      ]
     },
     "execution_count": 158,
     "metadata": {},
     "output_type": "execute_result"
    }
   ],
   "source": [
    "volume.argmin()\n",
    "volume[volume.argmin()]"
   ]
  },
  {
   "cell_type": "code",
   "execution_count": 159,
   "id": "6a446a8f",
   "metadata": {},
   "outputs": [
    {
     "data": {
      "text/plain": [
       "17250.485260861555"
      ]
     },
     "execution_count": 159,
     "metadata": {},
     "output_type": "execute_result"
    }
   ],
   "source": [
    "volume.argmax()\n",
    "volume[volume.argmax()]"
   ]
  },
  {
   "cell_type": "code",
   "execution_count": 160,
   "id": "9b4c7fae",
   "metadata": {},
   "outputs": [
    {
     "name": "stdout",
     "output_type": "stream",
     "text": [
      "Botol Terkecil Pada Botol index : 1 volume 2199.1148575128555\n",
      "Botol Terkecil Pada Botol index : 8 volume 17250.485260861555\n"
     ]
    }
   ],
   "source": [
    "idxBotolKecil = volume.argmin()\n",
    "volumeBotolKecil = volume[idxBotolKecil]\n",
    "print(f\"Botol Terkecil Pada Botol index : {idxBotolKecil} volume {volumeBotolKecil}\")\n",
    "idxBotolBesar = volume.argmax()\n",
    "volumeBotolBesar = volume[idxBotolBesar]\n",
    "print(f\"Botol Terkecil Pada Botol index : {idxBotolBesar} volume {volumeBotolBesar}\")\n"
   ]
  },
  {
   "cell_type": "markdown",
   "id": "5035e5ee",
   "metadata": {},
   "source": [
    "## latihan index"
   ]
  },
  {
   "cell_type": "code",
   "execution_count": 161,
   "id": "60302b57",
   "metadata": {},
   "outputs": [
    {
     "name": "stdout",
     "output_type": "stream",
     "text": [
      "[[1 2 3]\n",
      " [4 5 6]\n",
      " [7 8 9]]\n"
     ]
    }
   ],
   "source": [
    "arr = np.array([[1, 2, 3],\n",
    "                [4, 5, 6],\n",
    "                [7, 8, 9]])\n",
    "print((arr[:]))"
   ]
  },
  {
   "cell_type": "code",
   "execution_count": 162,
   "id": "38d1caf6",
   "metadata": {},
   "outputs": [
    {
     "name": "stdout",
     "output_type": "stream",
     "text": [
      "[[4 5 6]\n",
      " [7 8 9]]\n"
     ]
    }
   ],
   "source": [
    "print((arr[1:]))"
   ]
  },
  {
   "cell_type": "code",
   "execution_count": 163,
   "id": "953bc8c0",
   "metadata": {},
   "outputs": [
    {
     "name": "stdout",
     "output_type": "stream",
     "text": [
      "array([3, 6, 9])\n"
     ]
    }
   ],
   "source": [
    "print(repr(arr[:, -1]))"
   ]
  },
  {
   "cell_type": "code",
   "execution_count": 164,
   "id": "ed101e0a",
   "metadata": {},
   "outputs": [
    {
     "name": "stdout",
     "output_type": "stream",
     "text": [
      "array([[2, 3],\n",
      "       [5, 6],\n",
      "       [8, 9]])\n"
     ]
    }
   ],
   "source": [
    "print(repr(arr[:, 1:]))"
   ]
  },
  {
   "cell_type": "code",
   "execution_count": 165,
   "id": "80e375bd",
   "metadata": {},
   "outputs": [
    {
     "name": "stdout",
     "output_type": "stream",
     "text": [
      "array([[1, 2, 3]])\n"
     ]
    }
   ],
   "source": [
    "print(repr(arr[0:1,:]))"
   ]
  },
  {
   "cell_type": "code",
   "execution_count": 168,
   "id": "8d061e52",
   "metadata": {},
   "outputs": [
    {
     "name": "stdout",
     "output_type": "stream",
     "text": [
      "array([[1, 2, 3],\n",
      "       [4, 5, 6]])\n"
     ]
    }
   ],
   "source": [
    "print(repr(arr[0:2,:]))"
   ]
  },
  {
   "cell_type": "code",
   "execution_count": 166,
   "id": "faa75d2f",
   "metadata": {},
   "outputs": [
    {
     "name": "stdout",
     "output_type": "stream",
     "text": [
      "array([[2, 3]])\n"
     ]
    }
   ],
   "source": [
    "print(repr(arr[0:1, 1:]))"
   ]
  },
  {
   "cell_type": "code",
   "execution_count": 167,
   "id": "5f4011d3",
   "metadata": {},
   "outputs": [
    {
     "name": "stdout",
     "output_type": "stream",
     "text": [
      "array([[2, 3],\n",
      "       [5, 6]])\n"
     ]
    }
   ],
   "source": [
    "print(repr(arr[0:2, 1:]))"
   ]
  },
  {
   "cell_type": "code",
   "execution_count": 169,
   "id": "db9d7171",
   "metadata": {},
   "outputs": [
    {
     "name": "stdout",
     "output_type": "stream",
     "text": [
      "array([2, 3])\n"
     ]
    }
   ],
   "source": [
    "print(repr(arr[0, 1:]))"
   ]
  },
  {
   "cell_type": "markdown",
   "id": "cc0a21e4",
   "metadata": {},
   "source": [
    "### Matrix Aggregation\n",
    "    Kita dapat menjumlahkan matriks dengan cara yang sama seperti kita menjumlahkan vector"
   ]
  },
  {
   "cell_type": "code",
   "execution_count": 170,
   "id": "377b18ac",
   "metadata": {},
   "outputs": [
    {
     "name": "stdout",
     "output_type": "stream",
     "text": [
      "[[1 2]\n",
      " [3 4]\n",
      " [5 6]]\n"
     ]
    }
   ],
   "source": [
    "data = np.array([[1, 2], [3, 4], [5, 6]])\n",
    "\n",
    "print(data)"
   ]
  },
  {
   "cell_type": "code",
   "execution_count": 171,
   "id": "897c2f97",
   "metadata": {},
   "outputs": [
    {
     "name": "stdout",
     "output_type": "stream",
     "text": [
      "6\n",
      "1\n",
      "21\n"
     ]
    }
   ],
   "source": [
    "print(data.max())\n",
    "print(data.min())\n",
    "print(data.sum())"
   ]
  },
  {
   "cell_type": "code",
   "execution_count": 172,
   "id": "03929376",
   "metadata": {},
   "outputs": [
    {
     "name": "stdout",
     "output_type": "stream",
     "text": [
      "[5 6]\n",
      "[2 4 6]\n"
     ]
    }
   ],
   "source": [
    "print(data.max(axis=0))\n",
    "print(data.max(axis=1))"
   ]
  },
  {
   "cell_type": "markdown",
   "id": "98b13369",
   "metadata": {},
   "source": [
    "## Transposing and Reshaping"
   ]
  },
  {
   "cell_type": "markdown",
   "id": "971be353",
   "metadata": {},
   "source": [
    "mentraspose suatu array adalah proses mengubah posisi **element2 vektor baris menjadi vektor kolom demikian pula sebaliknya.* \n",
    "\n",
    "Menggunakan numpy , melakukan traspose suatu array dapat dilakukan : \n",
    " dengan cara memangil function **transpose()** atau memanggil properti **T** dari suatu array  "
   ]
  },
  {
   "cell_type": "code",
   "execution_count": 173,
   "id": "72251e72",
   "metadata": {},
   "outputs": [
    {
     "name": "stdout",
     "output_type": "stream",
     "text": [
      "[[1 2]\n",
      " [3 4]\n",
      " [5 6]]\n"
     ]
    }
   ],
   "source": [
    "data = np.array([[1, 2], [3, 4], [5, 6]])\n",
    "print(data)"
   ]
  },
  {
   "cell_type": "code",
   "execution_count": 174,
   "id": "9b149b8d",
   "metadata": {},
   "outputs": [
    {
     "name": "stdout",
     "output_type": "stream",
     "text": [
      "[[1 3 5]\n",
      " [2 4 6]]\n"
     ]
    }
   ],
   "source": [
    "print(data.transpose())"
   ]
  },
  {
   "cell_type": "code",
   "execution_count": 175,
   "id": "2bc78106",
   "metadata": {},
   "outputs": [
    {
     "name": "stdout",
     "output_type": "stream",
     "text": [
      "[[1 3 5]\n",
      " [2 4 6]]\n"
     ]
    }
   ],
   "source": [
    "print(data.T)"
   ]
  },
  {
   "cell_type": "code",
   "execution_count": 176,
   "id": "0e6509ce",
   "metadata": {},
   "outputs": [
    {
     "name": "stdout",
     "output_type": "stream",
     "text": [
      "[[1 2]\n",
      " [3 4]\n",
      " [5 6]]\n",
      "[[1 3 5]\n",
      " [2 4 6]]\n"
     ]
    }
   ],
   "source": [
    "data = np.array([[1, 2], [3, 4], [5, 6]])\n",
    "print(data)\n",
    "data = data.transpose()\n",
    "print(data)"
   ]
  },
  {
   "cell_type": "markdown",
   "id": "f92bb40a",
   "metadata": {},
   "source": [
    "Metode reshape() NumPy berguna dalam kasus ini. \n",
    "    Anda hanya memberikan dimensi baru yang Anda inginkan untuk matriks. \n",
    "    Anda dapat meneruskan -1 untuk suatu dimensi dan NumPy dapat menyimpulkan dimensi yang benar berdasarkan matriks Anda"
   ]
  },
  {
   "cell_type": "code",
   "execution_count": 177,
   "id": "ce5734b8",
   "metadata": {},
   "outputs": [
    {
     "name": "stdout",
     "output_type": "stream",
     "text": [
      "[[1]\n",
      " [2]\n",
      " [3]\n",
      " [4]\n",
      " [5]\n",
      " [6]]\n"
     ]
    }
   ],
   "source": [
    "data_col = np.array([[1, 2, 3, 4, 5, 6]]).T\n",
    "print(data_col)"
   ]
  },
  {
   "cell_type": "code",
   "execution_count": 178,
   "id": "b5a9a6e8",
   "metadata": {},
   "outputs": [
    {
     "data": {
      "text/plain": [
       "array([[1, 2, 3],\n",
       "       [4, 5, 6]])"
      ]
     },
     "execution_count": 178,
     "metadata": {},
     "output_type": "execute_result"
    }
   ],
   "source": [
    "data_col.reshape(2, 3)"
   ]
  },
  {
   "cell_type": "code",
   "execution_count": 179,
   "id": "edc563d0",
   "metadata": {},
   "outputs": [
    {
     "data": {
      "text/plain": [
       "array([[1, 2],\n",
       "       [3, 4],\n",
       "       [5, 6]])"
      ]
     },
     "execution_count": 179,
     "metadata": {},
     "output_type": "execute_result"
    }
   ],
   "source": [
    "data_col.reshape(3, 2)"
   ]
  },
  {
   "cell_type": "code",
   "execution_count": 180,
   "id": "068f1176",
   "metadata": {},
   "outputs": [
    {
     "name": "stdout",
     "output_type": "stream",
     "text": [
      "[[0 1 2]\n",
      " [3 4 5]]\n"
     ]
    }
   ],
   "source": [
    "arr = np.arange(6).reshape((2, 3))\n",
    "print(arr)"
   ]
  },
  {
   "cell_type": "markdown",
   "id": "d4093e5b",
   "metadata": {},
   "source": [
    "### N-Dimensional Array \n",
    "    NumPy dapat melakukan semua yang telah kita sebutkan dalam sejumlah dimensi. Struktur data pusatnya disebut ndarray (N-Dimensional Array) karena suatu alasan."
   ]
  },
  {
   "cell_type": "code",
   "execution_count": 181,
   "id": "c3861321",
   "metadata": {},
   "outputs": [],
   "source": [
    "import numpy as np "
   ]
  },
  {
   "cell_type": "code",
   "execution_count": 182,
   "id": "08e89255",
   "metadata": {},
   "outputs": [
    {
     "name": "stdout",
     "output_type": "stream",
     "text": [
      "[[[1 2]\n",
      "  [3 4]]\n",
      "\n",
      " [[5 6]\n",
      "  [7 8]]]\n"
     ]
    }
   ],
   "source": [
    "ndarr = np.array([ [[1,2],[3,4]],\n",
    "                  [[5,6],[7,8]] ])\n",
    "\n",
    "print(ndarr)"
   ]
  },
  {
   "cell_type": "code",
   "execution_count": 183,
   "id": "81cb76c2",
   "metadata": {},
   "outputs": [
    {
     "name": "stdout",
     "output_type": "stream",
     "text": [
      "[[[1. 1.]\n",
      "  [1. 1.]\n",
      "  [1. 1.]]\n",
      "\n",
      " [[1. 1.]\n",
      "  [1. 1.]\n",
      "  [1. 1.]]\n",
      "\n",
      " [[1. 1.]\n",
      "  [1. 1.]\n",
      "  [1. 1.]]\n",
      "\n",
      " [[1. 1.]\n",
      "  [1. 1.]\n",
      "  [1. 1.]]]\n"
     ]
    }
   ],
   "source": [
    "print(np.ones((4,3,2)))"
   ]
  },
  {
   "cell_type": "code",
   "execution_count": 184,
   "id": "4a575a50",
   "metadata": {},
   "outputs": [
    {
     "name": "stdout",
     "output_type": "stream",
     "text": [
      "[[[0. 0.]\n",
      "  [0. 0.]\n",
      "  [0. 0.]]\n",
      "\n",
      " [[0. 0.]\n",
      "  [0. 0.]\n",
      "  [0. 0.]]\n",
      "\n",
      " [[0. 0.]\n",
      "  [0. 0.]\n",
      "  [0. 0.]]\n",
      "\n",
      " [[0. 0.]\n",
      "  [0. 0.]\n",
      "  [0. 0.]]]\n"
     ]
    }
   ],
   "source": [
    "print(np.zeros((4,3,2)))"
   ]
  },
  {
   "cell_type": "code",
   "execution_count": 185,
   "id": "119a848f",
   "metadata": {},
   "outputs": [
    {
     "name": "stdout",
     "output_type": "stream",
     "text": [
      "[[[0.81216873 0.47997717]\n",
      "  [0.3927848  0.83607876]\n",
      "  [0.33739616 0.64817187]]\n",
      "\n",
      " [[0.36824154 0.95715516]\n",
      "  [0.14035078 0.87008726]\n",
      "  [0.47360805 0.80091075]]\n",
      "\n",
      " [[0.52047748 0.67887953]\n",
      "  [0.72063265 0.58201979]\n",
      "  [0.53737323 0.75861562]]\n",
      "\n",
      " [[0.10590761 0.47360042]\n",
      "  [0.18633234 0.73691818]\n",
      "  [0.21655035 0.13521817]]]\n"
     ]
    }
   ],
   "source": [
    "print(np.random.random((4,3,2)))"
   ]
  },
  {
   "cell_type": "markdown",
   "id": "3d178558",
   "metadata": {},
   "source": [
    "### Flatten N-Dimensional Array\n",
    "\n",
    "Ada dua cara populer untuk meratakan array: .flatten() dan .ravel(). Perbedaan utama antara keduanya adalah bahwa array baru yang dibuat menggunakan ravel() sebenarnya adalah referensi ke array induk. Ini berarti bahwa setiap perubahan pada array baru akan mempengaruhi array induk juga. Karena ravel tidak membuat salinan, ini hemat memori."
   ]
  },
  {
   "cell_type": "code",
   "execution_count": 186,
   "id": "6cc413bd",
   "metadata": {},
   "outputs": [
    {
     "name": "stdout",
     "output_type": "stream",
     "text": [
      "[[ 1  2  3  4]\n",
      " [ 5  6  7  8]\n",
      " [ 9 10 11 12]]\n"
     ]
    }
   ],
   "source": [
    "arrflat = np.array([[1, 2, 3, 4], [5, 6, 7, 8], [9, 10, 11, 12]])\n",
    "\n",
    "print(arrflat)"
   ]
  },
  {
   "cell_type": "code",
   "execution_count": 187,
   "id": "ddb2b5af",
   "metadata": {},
   "outputs": [
    {
     "data": {
      "text/plain": [
       "array([ 1,  2,  3,  4,  5,  6,  7,  8,  9, 10, 11, 12])"
      ]
     },
     "execution_count": 187,
     "metadata": {},
     "output_type": "execute_result"
    }
   ],
   "source": [
    "# You can use flatten to flatten your array into a 1D array.\n",
    "arrflat.flatten()"
   ]
  }
 ],
 "metadata": {
  "kernelspec": {
   "display_name": "Python 3",
   "language": "python",
   "name": "python3"
  },
  "language_info": {
   "codemirror_mode": {
    "name": "ipython",
    "version": 3
   },
   "file_extension": ".py",
   "mimetype": "text/x-python",
   "name": "python",
   "nbconvert_exporter": "python",
   "pygments_lexer": "ipython3",
   "version": "3.8.8"
  }
 },
 "nbformat": 4,
 "nbformat_minor": 5
}
