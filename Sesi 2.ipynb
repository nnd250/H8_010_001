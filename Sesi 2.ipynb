{
 "cells": [
  {
   "cell_type": "markdown",
   "id": "9dec976d",
   "metadata": {},
   "source": [
    "NAMA : Ninda Nurismiranda\n",
    "PROGRAM : Introduction to Python for Data Science"
   ]
  },
  {
   "cell_type": "markdown",
   "id": "01f38b64",
   "metadata": {},
   "source": [
    "## Sesi 2 Conditions, Control Flow & Looping"
   ]
  },
  {
   "cell_type": "markdown",
   "id": "b9b503c4",
   "metadata": {},
   "source": [
    "### Introduction to the if Statement"
   ]
  },
  {
   "cell_type": "markdown",
   "id": "9b7c40bb",
   "metadata": {},
   "source": [
    "Tipe pernyataan yang paling dasar dalam bentuk yang paling sederhana"
   ]
  },
  {
   "cell_type": "markdown",
   "id": "3bef9ed4",
   "metadata": {},
   "source": [
    "if <expr>:\n",
    "    <statement>"
   ]
  },
  {
   "cell_type": "code",
   "execution_count": 3,
   "id": "6b47aa71",
   "metadata": {},
   "outputs": [],
   "source": [
    "x = 10 \n",
    "y = 15  "
   ]
  },
  {
   "cell_type": "code",
   "execution_count": 4,
   "id": "cc5eb876",
   "metadata": {},
   "outputs": [
    {
     "name": "stdout",
     "output_type": "stream",
     "text": [
      "Yes, x < y \n"
     ]
    }
   ],
   "source": [
    "if x < y: # \n",
    "    print(\"Yes, x < y \") "
   ]
  },
  {
   "cell_type": "code",
   "execution_count": 5,
   "id": "93500b78",
   "metadata": {},
   "outputs": [
    {
     "name": "stdout",
     "output_type": "stream",
     "text": [
      "Yes y > x \n"
     ]
    }
   ],
   "source": [
    "if y > x:  # \n",
    "    print(\"Yes y > x \") "
   ]
  },
  {
   "cell_type": "code",
   "execution_count": 6,
   "id": "c5b643d7",
   "metadata": {},
   "outputs": [
    {
     "name": "stdout",
     "output_type": "stream",
     "text": [
      "yes\n"
     ]
    }
   ],
   "source": [
    "if 'aul' in 'grault':                # \n",
    "    print('yes')"
   ]
  },
  {
   "cell_type": "code",
   "execution_count": 7,
   "id": "606fa3b6",
   "metadata": {},
   "outputs": [
    {
     "name": "stdout",
     "output_type": "stream",
     "text": [
      "quuk not ok\n"
     ]
    }
   ],
   "source": [
    "if 'quux' in ['foo', 'bar', 'baz']:  # \n",
    "    print('yes')\n",
    "\n",
    "print(\"quuk not ok\") "
   ]
  },
  {
   "cell_type": "markdown",
   "id": "b2098cb0",
   "metadata": {},
   "source": [
    "### Grouping Statements: Indentation and Blocks"
   ]
  },
  {
   "cell_type": "code",
   "execution_count": 8,
   "id": "c8b75ca2",
   "metadata": {},
   "outputs": [
    {
     "name": "stdout",
     "output_type": "stream",
     "text": [
      "After conditional\n"
     ]
    }
   ],
   "source": [
    "if 'foo' in ['bar', 'baz', 'qux']:\n",
    "    print('Expression was true')\n",
    "    print('Executing statement in suite')\n",
    "    print('...')\n",
    "    print('Done.')\n",
    "    \n",
    "print('After conditional')"
   ]
  },
  {
   "cell_type": "code",
   "execution_count": 9,
   "id": "b64b1a40",
   "metadata": {},
   "outputs": [
    {
     "name": "stdout",
     "output_type": "stream",
     "text": [
      "Outer condition is true\n",
      "Between inner conditions\n",
      "Inner condition 2\n",
      "End of outer condition\n",
      "After outer condition\n"
     ]
    }
   ],
   "source": [
    "# Does line execute?                        Yes    No\n",
    "#                                           ---    --\n",
    "if 'foo' in ['foo', 'bar', 'baz']:        #  \n",
    "    print('Outer condition is true')      #  yes\n",
    "\n",
    "    if 10 > 20:                           #  yes\n",
    "        print('Inner condition 1')        #        no\n",
    "\n",
    "    print('Between inner conditions')     #  yes\n",
    "\n",
    "    if 10 < 20:                           #  yes\n",
    "        print('Inner condition 2')        #  yes     \n",
    "\n",
    "    print('End of outer condition')       #  yes\n",
    "print('After outer condition')            #  yes   "
   ]
  },
  {
   "cell_type": "markdown",
   "id": "62e1b95b",
   "metadata": {},
   "source": [
    "### The else and elif Clauses"
   ]
  },
  {
   "cell_type": "code",
   "execution_count": 10,
   "id": "77a5cbee",
   "metadata": {},
   "outputs": [
    {
     "name": "stdout",
     "output_type": "stream",
     "text": [
      "(first suite)\n",
      "x is small\n"
     ]
    }
   ],
   "source": [
    "x = 20\n",
    "\n",
    "if x < 50:\n",
    "    print('(first suite)')\n",
    "    print('x is small')\n",
    "else:\n",
    "    print('(second suite)')\n",
    "    print('x is large')"
   ]
  },
  {
   "cell_type": "code",
   "execution_count": 11,
   "id": "fc8367b1",
   "metadata": {},
   "outputs": [
    {
     "name": "stdout",
     "output_type": "stream",
     "text": [
      "(second suite)\n",
      "x is large\n"
     ]
    }
   ],
   "source": [
    "x = 120\n",
    "\n",
    "if x < 50:\n",
    "    print('(first suite)')\n",
    "    print('x is small')\n",
    "else:\n",
    "    print('(second suite)')\n",
    "    print('x is large')"
   ]
  },
  {
   "cell_type": "code",
   "execution_count": 12,
   "id": "d6fe491b",
   "metadata": {},
   "outputs": [
    {
     "name": "stdout",
     "output_type": "stream",
     "text": [
      "uang tidak cukup\n"
     ]
    }
   ],
   "source": [
    "hargaBuku = 20000\n",
    "hargaMajalah = 5000\n",
    "uang = 2000\n",
    "\n",
    "if uang > hargaBuku:\n",
    "    print(\"beli buku\")\n",
    "else:\n",
    "    print(\"uang tidak cukup\")"
   ]
  },
  {
   "cell_type": "code",
   "execution_count": 13,
   "id": "5b6c5bbe",
   "metadata": {},
   "outputs": [
    {
     "name": "stdout",
     "output_type": "stream",
     "text": [
      "uang tidak cukup\n"
     ]
    }
   ],
   "source": [
    "hargaBuku = 20000\n",
    "hargaMajalah = 5000\n",
    "uang = 2000\n",
    "\n",
    "if uang > hargaBuku:\n",
    "    print(\"beli buku\")\n",
    "elif uang > hargaMajalah:\n",
    "    print(\"beli majalah\")\n",
    "else:\n",
    "    print(\"uang tidak cukup\")"
   ]
  },
  {
   "cell_type": "code",
   "execution_count": 15,
   "id": "28b88616",
   "metadata": {},
   "outputs": [
    {
     "name": "stdout",
     "output_type": "stream",
     "text": [
      "Hello Hacktiv8\n"
     ]
    }
   ],
   "source": [
    "name = 'Hacktiv8'\n",
    "if name == 'Fred':\n",
    "    print('Hello Fred')\n",
    "elif name == 'Xander':\n",
    "    print('Hello Xander')\n",
    "elif name == 'Hacktiv8':\n",
    "    print('Hello Hacktiv8')\n",
    "elif name == 'Arnold':\n",
    "    print('Hello Arnold')\n",
    "else:\n",
    "    print(\"I don't know who you are!\")\n"
   ]
  },
  {
   "cell_type": "code",
   "execution_count": 16,
   "id": "94c3617a",
   "metadata": {},
   "outputs": [
    {
     "name": "stdout",
     "output_type": "stream",
     "text": [
      "foo\n"
     ]
    }
   ],
   "source": [
    "if 'a' in 'bar':\n",
    "    print('foo')\n",
    "elif 1/0:\n",
    "    print(\"This won't happen\")\n",
    "elif var:\n",
    "    print(\"This won't either\")"
   ]
  },
  {
   "cell_type": "markdown",
   "id": "4fc2f5ae",
   "metadata": {},
   "source": [
    "### One-Line if Statements"
   ]
  },
  {
   "cell_type": "code",
   "execution_count": 17,
   "id": "b1c7dff5",
   "metadata": {},
   "outputs": [
    {
     "name": "stdout",
     "output_type": "stream",
     "text": [
      "1\n",
      "2\n",
      "3\n"
     ]
    }
   ],
   "source": [
    "if 'f' in 'foo': print('1'); print('2'); print('3')"
   ]
  },
  {
   "cell_type": "code",
   "execution_count": 19,
   "id": "ae69ab5f",
   "metadata": {},
   "outputs": [],
   "source": [
    "if 'z' in 'foo': print('1'); print('2'); print('3')"
   ]
  },
  {
   "cell_type": "code",
   "execution_count": 20,
   "id": "6cf0c2a2",
   "metadata": {},
   "outputs": [
    {
     "name": "stdout",
     "output_type": "stream",
     "text": [
      "qux\n",
      "quux\n"
     ]
    }
   ],
   "source": [
    "x = 2\n",
    "\n",
    "if x == 1: print('foo'); print('bar'); print('baz')\n",
    "elif x == 2: print('qux'); print('quux')\n",
    "else: print('corge'); print('grault')"
   ]
  },
  {
   "cell_type": "code",
   "execution_count": 22,
   "id": "13918f18",
   "metadata": {},
   "outputs": [
    {
     "name": "stdout",
     "output_type": "stream",
     "text": [
      "corge\n",
      "grault\n"
     ]
    }
   ],
   "source": [
    "x = 3\n",
    "if x == 1: print('foo'); print('bar'); print('baz')\n",
    "elif x == 2: print('qux'); print('quux')\n",
    "else: print('corge'); print('grault')"
   ]
  },
  {
   "cell_type": "code",
   "execution_count": 23,
   "id": "1e6caf7b",
   "metadata": {},
   "outputs": [
    {
     "name": "stdout",
     "output_type": "stream",
     "text": [
      "corge\n",
      "grault\n"
     ]
    }
   ],
   "source": [
    "x = 3\n",
    "if x == 1:\n",
    "    print('foo')\n",
    "    print('bar')\n",
    "    print('baz')\n",
    "elif x == 2:\n",
    "    print('qux')\n",
    "    print('quux')\n",
    "else:\n",
    "    print('corge')\n",
    "    print('grault')"
   ]
  },
  {
   "cell_type": "markdown",
   "id": "845d070d",
   "metadata": {},
   "source": [
    "### Conditional Expressions (Python’s Ternary Operator)"
   ]
  },
  {
   "cell_type": "code",
   "execution_count": 24,
   "id": "9a8904c9",
   "metadata": {},
   "outputs": [
    {
     "name": "stdout",
     "output_type": "stream",
     "text": [
      "Let's go to the beach\n"
     ]
    }
   ],
   "source": [
    "raining = False\n",
    "print(\"Let's go to the\", 'beach' if not raining else 'library')"
   ]
  },
  {
   "cell_type": "code",
   "execution_count": 25,
   "id": "227699f9",
   "metadata": {},
   "outputs": [
    {
     "name": "stdout",
     "output_type": "stream",
     "text": [
      "Let's go to the library\n"
     ]
    }
   ],
   "source": [
    "raining = True\n",
    "print(\"Let's go to the\", 'beach' if not raining else 'library')"
   ]
  },
  {
   "cell_type": "code",
   "execution_count": 26,
   "id": "9dc64894",
   "metadata": {},
   "outputs": [
    {
     "data": {
      "text/plain": [
       "'teen'"
      ]
     },
     "execution_count": 26,
     "metadata": {},
     "output_type": "execute_result"
    }
   ],
   "source": [
    "age = 12\n",
    "s = 'teen' if age < 21 else 'adult'\n",
    "s"
   ]
  },
  {
   "cell_type": "code",
   "execution_count": 27,
   "id": "c51683b9",
   "metadata": {},
   "outputs": [
    {
     "data": {
      "text/plain": [
       "'no'"
      ]
     },
     "execution_count": 27,
     "metadata": {},
     "output_type": "execute_result"
    }
   ],
   "source": [
    "'yes' if ('qux' in ['foo', 'bar', 'baz']) else 'no'"
   ]
  },
  {
   "cell_type": "code",
   "execution_count": 28,
   "id": "d2787a6a",
   "metadata": {},
   "outputs": [
    {
     "name": "stdout",
     "output_type": "stream",
     "text": [
      "blm bisa vaksin\n"
     ]
    }
   ],
   "source": [
    "age = 12\n",
    "vaksin = 'blm bisa vaksin' if age <= 12 else 'sudah bisa vaksin'\n",
    "\n",
    "print(vaksin)"
   ]
  },
  {
   "cell_type": "markdown",
   "id": "cbc92702",
   "metadata": {},
   "source": [
    "### The Python pass Statement"
   ]
  },
  {
   "cell_type": "code",
   "execution_count": 29,
   "id": "0903deb9",
   "metadata": {},
   "outputs": [
    {
     "ename": "IndentationError",
     "evalue": "expected an indented block (<ipython-input-29-37d82b1abfb6>, line 3)",
     "output_type": "error",
     "traceback": [
      "\u001b[1;36m  File \u001b[1;32m\"<ipython-input-29-37d82b1abfb6>\"\u001b[1;36m, line \u001b[1;32m3\u001b[0m\n\u001b[1;33m    print('foo')\u001b[0m\n\u001b[1;37m    ^\u001b[0m\n\u001b[1;31mIndentationError\u001b[0m\u001b[1;31m:\u001b[0m expected an indented block\n"
     ]
    }
   ],
   "source": [
    "if True:\n",
    "\n",
    "print('foo')"
   ]
  },
  {
   "cell_type": "code",
   "execution_count": 30,
   "id": "7af97be1",
   "metadata": {},
   "outputs": [
    {
     "name": "stdout",
     "output_type": "stream",
     "text": [
      "foo\n"
     ]
    }
   ],
   "source": [
    "if True:\n",
    "    pass\n",
    "\n",
    "print('foo')"
   ]
  },
  {
   "cell_type": "markdown",
   "id": "8a230227",
   "metadata": {},
   "source": [
    "## Python \"while\" Loops"
   ]
  },
  {
   "cell_type": "code",
   "execution_count": 31,
   "id": "58950223",
   "metadata": {},
   "outputs": [
    {
     "name": "stdout",
     "output_type": "stream",
     "text": [
      "4\n",
      "3\n",
      "2\n",
      "1\n",
      "0\n"
     ]
    }
   ],
   "source": [
    "n = 5\n",
    "while n > 0:\n",
    "    n -= 1\n",
    "    print(n)"
   ]
  },
  {
   "cell_type": "code",
   "execution_count": 32,
   "id": "b9545b76",
   "metadata": {},
   "outputs": [
    {
     "name": "stdout",
     "output_type": "stream",
     "text": [
      "1\n",
      "2\n",
      "3\n",
      "4\n",
      "5\n",
      "6\n"
     ]
    }
   ],
   "source": [
    "i = 1\n",
    "while i <= 6:\n",
    "  print(i)\n",
    "  i += 1"
   ]
  },
  {
   "cell_type": "markdown",
   "id": "f7adc3e7",
   "metadata": {},
   "source": [
    "### The Python break and continue Statements"
   ]
  },
  {
   "cell_type": "code",
   "execution_count": 33,
   "id": "aed65616",
   "metadata": {},
   "outputs": [
    {
     "name": "stdout",
     "output_type": "stream",
     "text": [
      "4\n",
      "3\n",
      "Loop ended.\n"
     ]
    }
   ],
   "source": [
    "n = 5\n",
    "while n > 0:\n",
    "    n -= 1\n",
    "    if n == 2:\n",
    "        break # Break Statement\n",
    "    print(n)\n",
    "print('Loop ended.')"
   ]
  },
  {
   "cell_type": "code",
   "execution_count": 34,
   "id": "1688c828",
   "metadata": {},
   "outputs": [
    {
     "name": "stdout",
     "output_type": "stream",
     "text": [
      "4\n",
      "3\n",
      "1\n",
      "0\n",
      "Loop ended.\n"
     ]
    }
   ],
   "source": [
    "n = 5\n",
    "while n > 0:\n",
    "    n -= 1\n",
    "    if n == 2:\n",
    "        continue\n",
    "    print(n)\n",
    "print('Loop ended.')"
   ]
  },
  {
   "cell_type": "markdown",
   "id": "d771b337",
   "metadata": {},
   "source": [
    "### The else Clause"
   ]
  },
  {
   "cell_type": "code",
   "execution_count": 35,
   "id": "2c9af616",
   "metadata": {},
   "outputs": [
    {
     "name": "stdout",
     "output_type": "stream",
     "text": [
      "4\n",
      "3\n",
      "2\n",
      "1\n",
      "0\n",
      "Loop done.\n"
     ]
    }
   ],
   "source": [
    "n = 5\n",
    "while n > 0:\n",
    "    n -= 1\n",
    "    print(n)\n",
    "else:\n",
    "    print('Loop done.')"
   ]
  },
  {
   "cell_type": "code",
   "execution_count": 36,
   "id": "212d9abc",
   "metadata": {},
   "outputs": [
    {
     "name": "stdout",
     "output_type": "stream",
     "text": [
      "4\n",
      "3\n",
      "2\n"
     ]
    }
   ],
   "source": [
    "n = 5\n",
    "while n > 0:\n",
    "    n -= 1\n",
    "    print(n)\n",
    "    if n == 2:\n",
    "        break\n",
    "else:\n",
    "    print('Loop done.')"
   ]
  },
  {
   "cell_type": "markdown",
   "id": "72f191a0",
   "metadata": {},
   "source": [
    "### Infinite Loops"
   ]
  },
  {
   "cell_type": "code",
   "execution_count": null,
   "id": "b5676c1e",
   "metadata": {},
   "outputs": [],
   "source": []
  },
  {
   "cell_type": "markdown",
   "id": "3ef52b63",
   "metadata": {},
   "source": [
    "### Nested while Loops"
   ]
  },
  {
   "cell_type": "code",
   "execution_count": 1,
   "id": "8f17188d",
   "metadata": {},
   "outputs": [
    {
     "name": "stdout",
     "output_type": "stream",
     "text": [
      "grandfather\n"
     ]
    }
   ],
   "source": [
    "age = 65 \n",
    "gender = 'M'\n",
    "\n",
    "if age < 18:\n",
    "    if gender == 'M':\n",
    "        print('son')\n",
    "    else:\n",
    "        print('daughter')\n",
    "elif age >= 18 and age < 65:\n",
    "    if gender == 'M':\n",
    "        print('father')\n",
    "    else:\n",
    "        print('mother')\n",
    "else:\n",
    "    if gender == 'M':\n",
    "        print('grandfather')\n",
    "    else:\n",
    "        print('grandmother')"
   ]
  },
  {
   "cell_type": "code",
   "execution_count": 2,
   "id": "dc9d8441",
   "metadata": {},
   "outputs": [
    {
     "name": "stdout",
     "output_type": "stream",
     "text": [
      "foo\n",
      "> baz\n",
      "> qux\n",
      "bar\n",
      "> baz\n",
      "> qux\n"
     ]
    }
   ],
   "source": [
    "a = ['foo', 'bar']\n",
    "\n",
    "while len(a):\n",
    "    print(a.pop(0))\n",
    "    \n",
    "    b = ['baz', 'qux']\n",
    "    \n",
    "    while len(b):\n",
    "        print('>', b.pop(0))"
   ]
  },
  {
   "cell_type": "markdown",
   "id": "55df8277",
   "metadata": {},
   "source": [
    "### One-Line while Loops"
   ]
  },
  {
   "cell_type": "code",
   "execution_count": 4,
   "id": "942e4659",
   "metadata": {},
   "outputs": [
    {
     "name": "stdout",
     "output_type": "stream",
     "text": [
      "4\n",
      "3\n",
      "2\n",
      "1\n",
      "0\n"
     ]
    }
   ],
   "source": [
    "n = 5\n",
    "while n > 0: n -= 1; print(n)"
   ]
  },
  {
   "cell_type": "markdown",
   "id": "6e027f2b",
   "metadata": {},
   "source": [
    "### Numeric Range Loop"
   ]
  },
  {
   "cell_type": "code",
   "execution_count": 5,
   "id": "af56ae03",
   "metadata": {},
   "outputs": [
    {
     "ename": "SyntaxError",
     "evalue": "invalid syntax (<ipython-input-5-8aa2d9ff8f87>, line 1)",
     "output_type": "error",
     "traceback": [
      "\u001b[1;36m  File \u001b[1;32m\"<ipython-input-5-8aa2d9ff8f87>\"\u001b[1;36m, line \u001b[1;32m1\u001b[0m\n\u001b[1;33m    for i = 1 to 10\u001b[0m\n\u001b[1;37m          ^\u001b[0m\n\u001b[1;31mSyntaxError\u001b[0m\u001b[1;31m:\u001b[0m invalid syntax\n"
     ]
    }
   ],
   "source": [
    "for i = 1 to 10\n",
    "    <loop body>"
   ]
  },
  {
   "cell_type": "markdown",
   "id": "ed793ff4",
   "metadata": {},
   "source": [
    "### Three-Expression Loop"
   ]
  },
  {
   "cell_type": "code",
   "execution_count": null,
   "id": "c9dc9a8d",
   "metadata": {},
   "outputs": [],
   "source": [
    "for (i = 1; i <= 10; i++)\n",
    "    <loop body>"
   ]
  },
  {
   "cell_type": "markdown",
   "id": "c654fc0f",
   "metadata": {},
   "source": [
    "### Collection-Based or Iterator-Based Loop"
   ]
  },
  {
   "cell_type": "code",
   "execution_count": null,
   "id": "04a1e5b4",
   "metadata": {},
   "outputs": [],
   "source": [
    "for i in <collection>\n",
    "    <loop body>"
   ]
  },
  {
   "cell_type": "markdown",
   "id": "5c2e1490",
   "metadata": {},
   "source": [
    "### The Python for Loop"
   ]
  },
  {
   "cell_type": "code",
   "execution_count": null,
   "id": "76ca0a05",
   "metadata": {},
   "outputs": [],
   "source": [
    "for <var> in <iterable>:\n",
    "    <statement(s)>"
   ]
  },
  {
   "cell_type": "code",
   "execution_count": 6,
   "id": "8082e963",
   "metadata": {},
   "outputs": [
    {
     "name": "stdout",
     "output_type": "stream",
     "text": [
      "foo\n",
      "bar\n",
      "baz\n"
     ]
    }
   ],
   "source": [
    "a = ['foo', 'bar', 'baz']\n",
    "for i in a:\n",
    "    print(i)"
   ]
  },
  {
   "cell_type": "markdown",
   "id": "0316b60e",
   "metadata": {},
   "source": [
    "### Iterating Through a Dictionary"
   ]
  },
  {
   "cell_type": "code",
   "execution_count": 7,
   "id": "674efa03",
   "metadata": {},
   "outputs": [
    {
     "name": "stdout",
     "output_type": "stream",
     "text": [
      "foo\n",
      "bar\n",
      "baz\n"
     ]
    }
   ],
   "source": [
    "# dictonary \n",
    "d = {'foo': 1, 'bar': 2, 'baz': 3}\n",
    "for k in d:\n",
    "    print(k)"
   ]
  },
  {
   "cell_type": "code",
   "execution_count": 8,
   "id": "671b606a",
   "metadata": {},
   "outputs": [
    {
     "name": "stdout",
     "output_type": "stream",
     "text": [
      "1\n",
      "2\n",
      "3\n"
     ]
    }
   ],
   "source": [
    "for k in d:\n",
    "    print(d[k])"
   ]
  },
  {
   "cell_type": "code",
   "execution_count": 9,
   "id": "bd37534f",
   "metadata": {},
   "outputs": [
    {
     "name": "stdout",
     "output_type": "stream",
     "text": [
      "1\n",
      "2\n",
      "3\n"
     ]
    }
   ],
   "source": [
    "for k in d.values():\n",
    "    print(k)"
   ]
  },
  {
   "cell_type": "code",
   "execution_count": 10,
   "id": "1b409fe9",
   "metadata": {},
   "outputs": [
    {
     "name": "stdout",
     "output_type": "stream",
     "text": [
      "foo : 1\n",
      "bar : 2\n",
      "baz : 3\n"
     ]
    }
   ],
   "source": [
    "for k, v in d.items(): \n",
    "    print(k, \":\", v)"
   ]
  },
  {
   "cell_type": "markdown",
   "id": "3a89d121",
   "metadata": {},
   "source": [
    "### The range() Function"
   ]
  },
  {
   "cell_type": "code",
   "execution_count": 11,
   "id": "24d24ec8",
   "metadata": {},
   "outputs": [
    {
     "name": "stdout",
     "output_type": "stream",
     "text": [
      "1\n"
     ]
    }
   ],
   "source": [
    "for n in (0, 1, 2, 3, 4):\n",
    "    if n ==1: \n",
    "        print(n)"
   ]
  },
  {
   "cell_type": "code",
   "execution_count": 12,
   "id": "af357ff5",
   "metadata": {},
   "outputs": [
    {
     "name": "stdout",
     "output_type": "stream",
     "text": [
      "range(0, 5)\n",
      "0\n",
      "1\n",
      "2\n",
      "3\n",
      "4\n"
     ]
    }
   ],
   "source": [
    "x = range(5)\n",
    "print(x)\n",
    "for n in x:\n",
    "    print(n)"
   ]
  },
  {
   "cell_type": "markdown",
   "id": "3601e008",
   "metadata": {},
   "source": [
    "### Altering for Loop Behavior\n",
    "    diinterupsi dengan pernyataan break and continue dan dimodifikasi dengan klausa else , sama dengan sebelumnya \n",
    "    while loop\n",
    "    \n",
    "#### The break and continue Statements"
   ]
  },
  {
   "cell_type": "code",
   "execution_count": 13,
   "id": "d28153e1",
   "metadata": {},
   "outputs": [
    {
     "name": "stdout",
     "output_type": "stream",
     "text": [
      "foo\n"
     ]
    }
   ],
   "source": [
    "for i in ['foo', 'bar', 'baz', 'qux']:\n",
    "    if 'b' in i:\n",
    "        break\n",
    "    print(i)"
   ]
  },
  {
   "cell_type": "code",
   "execution_count": 14,
   "id": "4ea9dd2b",
   "metadata": {},
   "outputs": [
    {
     "name": "stdout",
     "output_type": "stream",
     "text": [
      "foo\n",
      "qux\n"
     ]
    }
   ],
   "source": [
    "for i in ['foo', 'bar', 'baz', 'qux']:\n",
    "    if 'b' in i:\n",
    "        continue\n",
    "    print(i)"
   ]
  },
  {
   "cell_type": "markdown",
   "id": "c2c89ea9",
   "metadata": {},
   "source": [
    "#### The else Clause"
   ]
  },
  {
   "cell_type": "code",
   "execution_count": 15,
   "id": "d4d832fb",
   "metadata": {},
   "outputs": [
    {
     "name": "stdout",
     "output_type": "stream",
     "text": [
      "foo\n",
      "bar\n",
      "baz\n",
      "qux\n",
      "Done.\n"
     ]
    }
   ],
   "source": [
    "for i in ['foo', 'bar', 'baz', 'qux']:\n",
    "    print(i)\n",
    "else:\n",
    "    print('Done.')  # Will execute"
   ]
  },
  {
   "cell_type": "code",
   "execution_count": 16,
   "id": "ac1614be",
   "metadata": {},
   "outputs": [
    {
     "name": "stdout",
     "output_type": "stream",
     "text": [
      "foo\n"
     ]
    }
   ],
   "source": [
    "for i in ['foo', 'bar', 'baz', 'qux']:\n",
    "    if i == 'bar':\n",
    "        break\n",
    "    print(i)\n",
    "else:\n",
    "    print('Done.')  # Will not execute"
   ]
  },
  {
   "cell_type": "code",
   "execution_count": 17,
   "id": "e5298ad4",
   "metadata": {},
   "outputs": [
    {
     "name": "stdout",
     "output_type": "stream",
     "text": [
      "Ketikan temperatur yang ingin dikonversi, eg. 45F, 120C: 23C\n",
      "C\n",
      "Temperaturnya adalah 73 derajat\n"
     ]
    }
   ],
   "source": [
    "# \n",
    "temp = input(\"Ketikan temperatur yang ingin dikonversi, eg. 45F, 120C: \")\n",
    "degree = int(temp[:-1])\n",
    "i_convertion = temp[-1]\n",
    "print(i_convertion) \n",
    "result = 0 \n",
    "if i_convertion == \"C\":\n",
    "    result = int(round((9 * degree) / 5 + 32))\n",
    "elif i_convertion == \"F\":\n",
    "    result = int(round((degree - 32) * 5 / 9))\n",
    "else:\n",
    "    print(\"Masukan input yang benar\")\n",
    "\n",
    "print(\"Temperaturnya adalah\", result, \"derajat\")"
   ]
  },
  {
   "cell_type": "code",
   "execution_count": null,
   "id": "b98c9cbf",
   "metadata": {},
   "outputs": [
    {
     "name": "stdout",
     "output_type": "stream",
     "text": [
      "Ketikan karakter: kita\n",
      "kita\n"
     ]
    }
   ],
   "source": [
    "while True:\n",
    "    msg = input(\"Ketikan karakter: \").lower()\n",
    "    print(msg)\n",
    "    if msg == \"stop\":\n",
    "        break"
   ]
  },
  {
   "cell_type": "markdown",
   "id": "940c1f10",
   "metadata": {},
   "source": [
    "### Latihan Tugas Praktik \n",
    "\n",
    "    Membuat suatu program menentukan suatu nilai pada variable tersebut genap atau ganjil! \n",
    "    Kita coba lakukan langkah sebagai berikut:\n",
    "    \n",
    "* Buat variabel dengan nama “angka” isi dengan nilai 20\n",
    "* Ganti bagian ... dengan perhitungan untuk menentukan angka modulus 2 bernilai 0.\n",
    "* dilakukan pengecekan apakah benar dia bernilai genap maka mencetak **\"angka ini bilangan genap\"**, \n",
    "* jika sudah ganti nilai variable angka dengan nilai yang lain untuk melakukan pengecekan apakah sdh benar code tersebut jika suatu nilai tersebut bilangan ganjil akan mencetak cek lagi apakah dia bernilai ganjil dan keluarkan **\"angka termasuk bilangan ganjil\"**.\n",
    "\n",
    "Note: Anda bisa menggunakan materi-materi sebelumnya dengan menggabungkannya di tugas praktek ini untuk membantu anda dalam mengerjakan.\n",
    "\n",
    "\n",
    "```\n",
    "angka=10\n",
    "\n",
    "if(.....):\n",
    "    print(\"angka ini bilangan genap\")\n",
    "else:\n",
    "    print(\"angka ini bilangan ganjil\")\n",
    "```"
   ]
  },
  {
   "cell_type": "markdown",
   "id": "213d1bd1",
   "metadata": {},
   "source": []
  },
  {
   "cell_type": "code",
   "execution_count": 2,
   "id": "3d1d506e",
   "metadata": {},
   "outputs": [
    {
     "name": "stdout",
     "output_type": "stream",
     "text": [
      "angka ini bilangan genap\n",
      "angka ini bilangan genap\n"
     ]
    }
   ],
   "source": [
    "## Kemudian lakukan dengan cara yang berbeda diatas tapi menghasilkan hasil yang sama \n",
    "angka = 20\n",
    "\n",
    "if angka % 2 == 0:\n",
    "    print('angka ini bilangan genap')\n",
    "else : \n",
    "    print('angka ini bilangan ganjil')\n",
    "## menggunakan perbandingan bool , menggunakan single statement \n",
    "print('angka ini bilangan genap') if angka % 2 == 0 else print('angka ini bilangan ganjil') "
   ]
  },
  {
   "cell_type": "markdown",
   "id": "b86b2a88",
   "metadata": {},
   "source": [
    "### Latihan Tugas Praktik \n",
    "     \n",
    "    User ingin membuat sebuah program yang dapat mengeluarkan angka 1 sampai 10. dan tampilan akan mencetak \"Angka ganjil 1\" untuk angka ganjil dan \"Angka genap 2\" untuk angka genap. (Menggunakan looping for)\n",
    "​\n",
    "```\n",
    "for i in range (#,#):\n",
    "    if(i%#==#):\n",
    "        print(\"Angka genap\",i)\n",
    "    else:\n",
    "         print(\"Angka ganjil\",i)\n",
    "```         "
   ]
  },
  {
   "cell_type": "code",
   "execution_count": 4,
   "id": "fe7d5ab3",
   "metadata": {},
   "outputs": [
    {
     "name": "stdout",
     "output_type": "stream",
     "text": [
      "Angka ganjil  1\n",
      "Angka genap  2\n",
      "Angka ganjil  3\n",
      "Angka genap  4\n",
      "Angka ganjil  5\n",
      "Angka genap  6\n",
      "Angka ganjil  7\n",
      "Angka genap  8\n",
      "Angka ganjil  9\n"
     ]
    }
   ],
   "source": [
    "## setelah buat diatas \n",
    "for i in range (1,10):\n",
    "    if(i % 2 == 0):\n",
    "        print('Angka genap ', i)\n",
    "    else:\n",
    "        print('Angka ganjil ', i)"
   ]
  },
  {
   "cell_type": "code",
   "execution_count": 5,
   "id": "021dd459",
   "metadata": {},
   "outputs": [
    {
     "name": "stdout",
     "output_type": "stream",
     "text": [
      "Angka ganjil  1\n",
      "Angka genap  2\n",
      "Angka ganjil  3\n",
      "Angka genap  4\n",
      "Angka ganjil  5\n",
      "Angka genap  6\n",
      "Angka ganjil  7\n",
      "Angka genap  8\n",
      "Angka ganjil  9\n",
      "Angka genap  10\n"
     ]
    }
   ],
   "source": [
    "## buatlah dengan menggunakan list\n",
    "\n",
    "angka = [1,2,3,4,5,6,7,8,9,10]\n",
    "for i in angka:\n",
    "    if(i % 2 == 0):\n",
    "        print('Angka genap ', i)\n",
    "    else:\n",
    "        print('Angka ganjil ', i)"
   ]
  },
  {
   "cell_type": "code",
   "execution_count": 6,
   "id": "485e7147",
   "metadata": {},
   "outputs": [
    {
     "name": "stdout",
     "output_type": "stream",
     "text": [
      "Angka ganjil  1\n",
      "Angka genap  2\n",
      "Angka ganjil  3\n",
      "Angka genap  4\n",
      "Angka ganjil  5\n",
      "Angka genap  6\n",
      "Angka ganjil  7\n",
      "Angka genap  8\n",
      "Angka ganjil  9\n",
      "Angka genap  10\n"
     ]
    }
   ],
   "source": [
    "## buatlah dengan menggunakan tuple\n",
    "angka = (1,2,3,4,5,6,7,8,9,10)\n",
    "for i in angka:\n",
    "    if(i % 2 == 0):\n",
    "        print('Angka genap ', i)\n",
    "    else:\n",
    "        print('Angka ganjil ', i)"
   ]
  },
  {
   "cell_type": "code",
   "execution_count": 7,
   "id": "3b52589c",
   "metadata": {},
   "outputs": [
    {
     "name": "stdout",
     "output_type": "stream",
     "text": [
      "Angka Ganjil  1\n",
      "Angka Genap  2\n",
      "Angka Ganjil  3\n",
      "Angka Genap  4\n",
      "Angka Ganjil  5\n",
      "Angka Genap  6\n",
      "Angka Ganjil  7\n",
      "Angka Genap  8\n",
      "Angka Ganjil  9\n",
      "Angka Genap  10\n"
     ]
    }
   ],
   "source": [
    "## buatlah dengan menggunakan dict \n",
    "angka = {\"satu\":1, \"dua\":2, \"tiga\":3, \"empat\":4, \"lima\":5, \"enam\":6, \"tujuh\":7, \"delapan\":8, \"sembilan\":9, \"sepuluh\":10}\n",
    "\n",
    "for i in angka.values():\n",
    "    if i%2==0:\n",
    "        print(\"Angka Genap \", i)\n",
    "    else:\n",
    "        print(\"Angka Ganjil \", i)"
   ]
  },
  {
   "cell_type": "code",
   "execution_count": null,
   "id": "51fc5575",
   "metadata": {},
   "outputs": [],
   "source": []
  }
 ],
 "metadata": {
  "kernelspec": {
   "display_name": "Python 3",
   "language": "python",
   "name": "python3"
  },
  "language_info": {
   "codemirror_mode": {
    "name": "ipython",
    "version": 3
   },
   "file_extension": ".py",
   "mimetype": "text/x-python",
   "name": "python",
   "nbconvert_exporter": "python",
   "pygments_lexer": "ipython3",
   "version": "3.8.8"
  }
 },
 "nbformat": 4,
 "nbformat_minor": 5
}
