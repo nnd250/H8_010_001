{
 "cells": [
  {
   "cell_type": "markdown",
   "id": "565107f3",
   "metadata": {},
   "source": [
    "NAMA : Ninda Nurismiranda\n",
    "PROGRAM : Introduction to Python for Data Science"
   ]
  },
  {
   "cell_type": "markdown",
   "id": "9c88256b",
   "metadata": {},
   "source": [
    "## Sesi 3 Function, Basic Modul, and package"
   ]
  },
  {
   "cell_type": "markdown",
   "id": "185b6925",
   "metadata": {},
   "source": [
    "### Defining a Function"
   ]
  },
  {
   "cell_type": "code",
   "execution_count": null,
   "id": "151c4709",
   "metadata": {},
   "outputs": [],
   "source": [
    "def function_name( parameters ):\n",
    "   \"docstring\"\n",
    "   statement(s)"
   ]
  },
  {
   "cell_type": "code",
   "execution_count": 2,
   "id": "21324baf",
   "metadata": {},
   "outputs": [
    {
     "name": "stdout",
     "output_type": "stream",
     "text": [
      "8\n"
     ]
    }
   ],
   "source": [
    "def my_function(p, l):\n",
    "    \"Function untuk mengitung luas\"\n",
    "    print(p * l)\n",
    "my_function(2,4)\n"
   ]
  },
  {
   "cell_type": "code",
   "execution_count": 2,
   "id": "7cae1f0c",
   "metadata": {},
   "outputs": [],
   "source": [
    "def printme( str ):\n",
    "   \"This prints a passed string into this function\"\n",
    "   print(str)\n",
    "   return"
   ]
  },
  {
   "cell_type": "code",
   "execution_count": 3,
   "id": "47194ba5",
   "metadata": {},
   "outputs": [
    {
     "name": "stdout",
     "output_type": "stream",
     "text": [
      "ninda\n",
      "None\n"
     ]
    }
   ],
   "source": [
    "hasil = printme(\"ninda\")\n",
    "print(hasil)"
   ]
  },
  {
   "cell_type": "code",
   "execution_count": 4,
   "id": "6dc817d5",
   "metadata": {},
   "outputs": [
    {
     "name": "stdout",
     "output_type": "stream",
     "text": [
      "Bilangan Ganjil\n",
      "None\n"
     ]
    }
   ],
   "source": [
    "#PENGECEKAN BILANGAN GANJIL\n",
    "def cekbilangan(x):\n",
    "    if x % 2:\n",
    "        print(\"Bilangan Ganjil\") \n",
    "    else : \n",
    "        print(\"Bilangan Genap\")\n",
    "    return \n",
    "\n",
    "print(cekbilangan(11))"
   ]
  },
  {
   "cell_type": "markdown",
   "id": "3bbb4252",
   "metadata": {},
   "source": [
    "### Calling a Function"
   ]
  },
  {
   "cell_type": "code",
   "execution_count": 4,
   "id": "d222ed00",
   "metadata": {},
   "outputs": [
    {
     "name": "stdout",
     "output_type": "stream",
     "text": [
      "I'm first call to user defined function!\n",
      "Again second call to the same function\n"
     ]
    }
   ],
   "source": [
    "# Function definition is here\n",
    "def printme( str ):\n",
    "   \"This prints a passed string into this function\"\n",
    "   print(str)\n",
    "   return;\n",
    "\n",
    "# Now you can call printme function\n",
    "printme(\"I'm first call to user defined function!\")\n",
    "printme(\"Again second call to the same function\")"
   ]
  },
  {
   "cell_type": "markdown",
   "id": "aabcf521",
   "metadata": {},
   "source": [
    "### Pass by reference vs value"
   ]
  },
  {
   "cell_type": "code",
   "execution_count": 5,
   "id": "f1b973e0",
   "metadata": {},
   "outputs": [
    {
     "name": "stdout",
     "output_type": "stream",
     "text": [
      "Values inside the function:  [10, 20, 30, [1, 2, 3, 4]]\n",
      "Values outside the function:  [10, 20, 30, [1, 2, 3, 4]]\n"
     ]
    }
   ],
   "source": [
    "# Function definition is here\n",
    "def changeme( mylist ):\n",
    "   \"This changes a passed list into this function\"\n",
    "   mylist.append([1,2,3,4]);\n",
    "   print(\"Values inside the function: \", mylist)\n",
    "   return\n",
    "\n",
    "# Now you can call changeme function\n",
    "mylist = [10,20,30];\n",
    "changeme( mylist );\n",
    "print(\"Values outside the function: \", mylist)"
   ]
  },
  {
   "cell_type": "code",
   "execution_count": 5,
   "id": "f45f05eb",
   "metadata": {},
   "outputs": [
    {
     "name": "stdout",
     "output_type": "stream",
     "text": [
      "hitung saldo selesai  3990\n",
      "Nominal belanja : 1000\n",
      "Discount        : - 10\n",
      "Saldo sekarang : 5000\n"
     ]
    }
   ],
   "source": [
    "# bandingan dg function ini apakah saldo mengikuti perubahan ? \n",
    "def hitung(amt  ,disc  ,saldo ):\n",
    "    \"hitung sisa saldo\"\n",
    "    saldo -= amt + disc            #    \n",
    "    print(\"hitung saldo selesai \",saldo) # saldo berubah ? \n",
    "    return \n",
    "\n",
    "amt = 1000\n",
    "disc = 10 \n",
    "saldo = 5000\n",
    "hitung(amt, disc, saldo)\n",
    "\n",
    "print(f'Nominal belanja : {amt}')\n",
    "print(f'Discount        : - {disc}')\n",
    "print(f\"Saldo sekarang : {saldo}\")  # Saldo berubah "
   ]
  },
  {
   "cell_type": "code",
   "execution_count": 7,
   "id": "7ac0ceab",
   "metadata": {},
   "outputs": [
    {
     "name": "stdout",
     "output_type": "stream",
     "text": [
      "Values inside the function:  [1, 2, 3, 4]\n",
      "Values outside the function:  [10, 20, 30]\n"
     ]
    }
   ],
   "source": [
    "# Function definition is here\n",
    "def changeme( mylist ):\n",
    "   \"This changes a passed list into this function\"\n",
    "   mylist = [1,2,3,4]; # This would assig new reference in mylist\n",
    "   print(\"Values inside the function: \", mylist)\n",
    "   return\n",
    "\n",
    "# Now you can call changeme function\n",
    "mylist = [10,20,30];\n",
    "changeme( mylist );\n",
    "print(\"Values outside the function: \", mylist)"
   ]
  },
  {
   "cell_type": "markdown",
   "id": "00bb37ad",
   "metadata": {},
   "source": [
    "### Function Arguments\n",
    "    Kalian bisa memanggil suatu fungsi dengan menggunakan tipe argumen berikut\n",
    "\n",
    "* Required arguments / position arguments \n",
    "* Keyword arguments\n",
    "* Default arguments\n",
    "* Variable-length arguments\n",
    "\n",
    "Argumen Posisi\n",
    "Argumen Kata Kunci\n",
    "Argumen Default\n",
    "Argumen Posisi Panjang Variabel (*args)\n",
    "Argumen Kata Kunci Panjang Variabel (**kwargs)"
   ]
  },
  {
   "cell_type": "markdown",
   "id": "0dd2a748",
   "metadata": {},
   "source": [
    "#### Required arguments"
   ]
  },
  {
   "cell_type": "code",
   "execution_count": 6,
   "id": "42987168",
   "metadata": {},
   "outputs": [
    {
     "name": "stdout",
     "output_type": "stream",
     "text": [
      "hello\n"
     ]
    }
   ],
   "source": [
    "# Function definition is here\n",
    "def printme( str ):\n",
    "   \"This prints a passed string into this function\"\n",
    "   print(str)\n",
    "   return;\n",
    "\n",
    "# Now you can call printme function\n",
    "printme(\"hello\") # rubah parameter "
   ]
  },
  {
   "cell_type": "code",
   "execution_count": 7,
   "id": "32fcbd49",
   "metadata": {},
   "outputs": [
    {
     "name": "stdout",
     "output_type": "stream",
     "text": [
      "Jack is a developer\n",
      "developer is a Jack\n"
     ]
    }
   ],
   "source": [
    "def func(name, job):\n",
    "    print(name, 'is a', job)\n",
    "\n",
    "func('Jack', 'developer')\n",
    "# Prints Jack is a developer\n",
    "\n",
    "func('developer', 'Jack')"
   ]
  },
  {
   "cell_type": "markdown",
   "id": "c24909f2",
   "metadata": {},
   "source": [
    "#### Keyword arguments"
   ]
  },
  {
   "cell_type": "code",
   "execution_count": 8,
   "id": "bf182dec",
   "metadata": {},
   "outputs": [
    {
     "name": "stdout",
     "output_type": "stream",
     "text": [
      "Hacktiv8\n"
     ]
    }
   ],
   "source": [
    "# Function definition is here\n",
    "def printme( str ):\n",
    "   \"This prints a passed string into this function\"\n",
    "   print(str)\n",
    "   return;\n",
    "\n",
    "# Now you can call printme function\n",
    "printme(str = \"Hacktiv8\")"
   ]
  },
  {
   "cell_type": "code",
   "execution_count": 12,
   "id": "e8c8a174",
   "metadata": {},
   "outputs": [
    {
     "name": "stdout",
     "output_type": "stream",
     "text": [
      "Name:  Ninda\n",
      "Age:  21\n"
     ]
    }
   ],
   "source": [
    "# Function definition is here\n",
    "def printinfo( name, age ):\n",
    "   \"This prints a passed info into this function\"\n",
    "   print(\"Name: \", name)\n",
    "   print(\"Age: \", age)\n",
    "   return;\n",
    "\n",
    "# Now you can call printinfo function\n",
    "printinfo( age=21, name=\"Ninda\" )"
   ]
  },
  {
   "cell_type": "code",
   "execution_count": 13,
   "id": "f7d3b5d0",
   "metadata": {},
   "outputs": [
    {
     "name": "stdout",
     "output_type": "stream",
     "text": [
      "Jack is a developer\n"
     ]
    }
   ],
   "source": [
    "# Keyword arguments can be put in any order\n",
    "def func(name, job):\n",
    "    print(name, 'is a', job)\n",
    "\n",
    "func(name='Jack', job='developer') # ?"
   ]
  },
  {
   "cell_type": "code",
   "execution_count": 15,
   "id": "9b66095f",
   "metadata": {},
   "outputs": [
    {
     "name": "stdout",
     "output_type": "stream",
     "text": [
      " Nama : Ninda\n",
      " Amt  : 10\n",
      " Disc : 90.5\n"
     ]
    }
   ],
   "source": [
    "def printme(nama , intamt , fldisc):\n",
    "    \"This prints a passed string,int, float into this function\"\n",
    "    print(\" Nama :\",nama)\n",
    "    print(\" Amt  :\", intamt ) \n",
    "    print(\" Disc :\",fldisc)\n",
    "    return\n",
    "\n",
    "printme(intamt = 10 , fldisc = 90.5 , nama = \"Ninda\" )"
   ]
  },
  {
   "cell_type": "markdown",
   "id": "1ab5b022",
   "metadata": {},
   "source": [
    "#### Default arguments"
   ]
  },
  {
   "cell_type": "code",
   "execution_count": 16,
   "id": "6ebb80f1",
   "metadata": {},
   "outputs": [
    {
     "name": "stdout",
     "output_type": "stream",
     "text": [
      "Name:  hacktiv8\n",
      "Age:  50\n",
      "Name:  hacktiv\n",
      "Age:  26\n"
     ]
    }
   ],
   "source": [
    "# Function definition is here\n",
    "def printinfo( name, age = 26 ):\n",
    "   \"This prints a passed info into this function\"\n",
    "   print(\"Name: \", name)\n",
    "   print(\"Age: \", age)\n",
    "   return;\n",
    "\n",
    "# Now you can call printinfo function\n",
    "printinfo( age=50, name=\"hacktiv8\" )\n",
    "printinfo( name=\"hacktiv\" )\n"
   ]
  },
  {
   "cell_type": "code",
   "execution_count": 17,
   "id": "be629b5d",
   "metadata": {},
   "outputs": [
    {
     "name": "stdout",
     "output_type": "stream",
     "text": [
      "Invoice :  1\n",
      "Name:  hacktiv8\n",
      "Amt:  50000\n",
      "Disc: 5000\n",
      "====================\n",
      "Total: 45000\n",
      "\n",
      "\n",
      "##############################\n",
      "\n",
      "\n",
      "Invoice :  2\n",
      "Name:  Jhon\n",
      "Amt:  10000\n",
      "Disc: 100\n",
      "====================\n",
      "Total: 9900\n"
     ]
    }
   ],
   "source": [
    "# Function definition is here\n",
    "# Default dari Disc 100 \n",
    "def totalInvoice( name, amt,  disc = 100 ):\n",
    "    \"This prints a passed info into this function\"\n",
    "    print(\"Name: \", name)\n",
    "    print(\"Amt: \", amt)\n",
    "    print(\"Disc:\", disc) \n",
    "    total = amt - disc \n",
    "    print(10*\"==\")\n",
    "    print(\"Total:\",total)\n",
    "    return\n",
    "\n",
    "# Now you can call printinfo function\n",
    "print(\"Invoice : \",1) \n",
    "totalInvoice( amt=50000, name=\"hacktiv8\", disc = 5000 )\n",
    "print(\"\\n\")\n",
    "\n",
    "print(10*\"###\")\n",
    "print(\"\\n\")\n",
    "print(\"Invoice : \",2) \n",
    "totalInvoice( name=\"Jhon\",  amt=10000)"
   ]
  },
  {
   "cell_type": "markdown",
   "id": "1de5741f",
   "metadata": {},
   "source": [
    "#### Variable-length arguments"
   ]
  },
  {
   "cell_type": "code",
   "execution_count": 19,
   "id": "f9529af0",
   "metadata": {},
   "outputs": [
    {
     "name": "stdout",
     "output_type": "stream",
     "text": [
      "<class 'tuple'>\n",
      "(1, 54, 60, 8, 98, 12)\n"
     ]
    }
   ],
   "source": [
    "# *args \n",
    "def print_arguments(*args):\n",
    "    print(type(args))\n",
    "    print(args)\n",
    "\n",
    "print_arguments(1, 54, 60, 8, 98, 12)"
   ]
  },
  {
   "cell_type": "code",
   "execution_count": 18,
   "id": "fe23eeba",
   "metadata": {},
   "outputs": [
    {
     "name": "stdout",
     "output_type": "stream",
     "text": [
      "Output is: \n",
      "10\n",
      "Output is: \n",
      "70\n",
      "60\n",
      "50\n",
      "a\n"
     ]
    }
   ],
   "source": [
    "# Function definition is here\n",
    "def printinfo( arg1, *vartuple ):\n",
    "   \"This prints a variable passed arguments\"\n",
    "   print(\"Output is: \")\n",
    "   print(arg1)\n",
    "   for var in vartuple:\n",
    "      print(var)\n",
    "   return;\n",
    "\n",
    "# Now you can call printinfo function\n",
    "printinfo( 10 )\n",
    "printinfo( 70, 60, 50, \"a\" )\n"
   ]
  },
  {
   "cell_type": "code",
   "execution_count": 20,
   "id": "104eee26",
   "metadata": {},
   "outputs": [
    {
     "name": "stdout",
     "output_type": "stream",
     "text": [
      "{'name': 'Ninda', 'age': 21, 'job': 'student collage'}\n"
     ]
    }
   ],
   "source": [
    "def print_arguments(**kwargs):\n",
    "    print(kwargs)\n",
    "\n",
    "print_arguments(name='Ninda', age=21, job='student collage') # Prints {'name': 'Ninda', 'age': 21, 'job': 'Student Collage'}"
   ]
  },
  {
   "cell_type": "markdown",
   "id": "2bd6c353",
   "metadata": {},
   "source": [
    "#### The return Statement"
   ]
  },
  {
   "cell_type": "code",
   "execution_count": 21,
   "id": "1e59c877",
   "metadata": {},
   "outputs": [
    {
     "name": "stdout",
     "output_type": "stream",
     "text": [
      "Inside the function :  30\n",
      "Outside the function :  40\n"
     ]
    }
   ],
   "source": [
    "# Function definition is here\n",
    "def sum(arg1, arg2):\n",
    "    # Add both the parameters and return them.\"\n",
    "    total = arg1 + arg2\n",
    "    total2 = total + arg1\n",
    "    print(\"Inside the function : \", total)\n",
    "    return total2\n",
    "\n",
    "# Now you can call sum function\n",
    "total = sum(10, 20)\n",
    "print(\"Outside the function : \", total)\n"
   ]
  },
  {
   "cell_type": "markdown",
   "id": "d8f651e9",
   "metadata": {},
   "source": [
    "#### Return Multiple Values"
   ]
  },
  {
   "cell_type": "code",
   "execution_count": 22,
   "id": "b891e866",
   "metadata": {},
   "outputs": [
    {
     "name": "stdout",
     "output_type": "stream",
     "text": [
      "(5, 1)\n",
      "<class 'tuple'>\n"
     ]
    }
   ],
   "source": [
    "# Return addition and subtraction in a tuple\n",
    "def func(a, b):\n",
    "    return a+b, a-b\n",
    "\n",
    "result = func(3, 2)\n",
    "\n",
    "print(result)\n",
    "print(type(result))"
   ]
  },
  {
   "cell_type": "code",
   "execution_count": 23,
   "id": "e937e9f3",
   "metadata": {},
   "outputs": [
    {
     "name": "stdout",
     "output_type": "stream",
     "text": [
      "10\n"
     ]
    }
   ],
   "source": [
    "a , b, c = (10,20,30)\n",
    "print(a)"
   ]
  },
  {
   "cell_type": "code",
   "execution_count": 24,
   "id": "2fd0cbd9",
   "metadata": {},
   "outputs": [
    {
     "name": "stdout",
     "output_type": "stream",
     "text": [
      "Masukan Nilai A :11\n",
      "<class 'str'>\n",
      "Isi dari X : 13\n",
      "Isi dari Y : 9\n"
     ]
    }
   ],
   "source": [
    "## Saat Anda mengembalikan beberapa nilai, \n",
    "## Python sebenarnya mengemasnya dalam satu Tuple dan mengembalikannya. \n",
    "# kita bisa melakukan unpack ke dalam variabel \n",
    "a = input(\"Masukan Nilai A :\")\n",
    "print(type(a))\n",
    "x, y = func(int(a),2)\n",
    "print(f\"Isi dari X : {x}\" )\n",
    "print(f\"Isi dari Y : {y}\" )"
   ]
  },
  {
   "cell_type": "markdown",
   "id": "6283259b",
   "metadata": {},
   "source": [
    "#### Scope of Variables"
   ]
  },
  {
   "cell_type": "markdown",
   "id": "e401d5e7",
   "metadata": {},
   "source": [
    "##### Global variables"
   ]
  },
  {
   "cell_type": "code",
   "execution_count": 27,
   "id": "2dd6dd5c",
   "metadata": {},
   "outputs": [
    {
     "name": "stdout",
     "output_type": "stream",
     "text": [
      "Inside the function :  30\n",
      "Outside the function global total :  30\n"
     ]
    }
   ],
   "source": [
    "# Global variabel \n",
    "total = 10 \n",
    "\n",
    "def  sum(arg1, arg2):\n",
    "    \" Add both the parameters and return them.\"\n",
    "    total = arg1 + arg2\n",
    "    print(\"Inside the function : \", total)\n",
    "    return total\n",
    "\n",
    "def min():\n",
    "    return \n",
    "     \n",
    "\n",
    "total = sum(10,20)\n",
    "print(\"Outside the function global total : \", total)"
   ]
  },
  {
   "cell_type": "code",
   "execution_count": 28,
   "id": "ca0ab799",
   "metadata": {},
   "outputs": [
    {
     "name": "stdout",
     "output_type": "stream",
     "text": [
      "50\n",
      "40\n"
     ]
    }
   ],
   "source": [
    "jumlahKucing = 20\n",
    "\n",
    "def jumlahHewan():\n",
    "    jumlahAnjing = 30\n",
    "    return jumlahKucing + jumlahAnjing  # 50 \n",
    "\n",
    "def jumlahHewan2():\n",
    "    return jumlahKucing + jumlahKucing  # 40 \n",
    "\n",
    "hewan = jumlahHewan() \n",
    "print(hewan)\n",
    "hewan2= jumlahHewan2()\n",
    "print(hewan2)"
   ]
  },
  {
   "cell_type": "markdown",
   "id": "e035b937",
   "metadata": {},
   "source": [
    "### Nested Functions"
   ]
  },
  {
   "cell_type": "code",
   "execution_count": 29,
   "id": "8b48e65a",
   "metadata": {},
   "outputs": [
    {
     "name": "stdout",
     "output_type": "stream",
     "text": [
      "6\n"
     ]
    }
   ],
   "source": [
    "def outer(a, b):\n",
    "    def inner(c, d):\n",
    "        return c + d\n",
    "    return inner(a, b)\n",
    "\n",
    "result = outer(2, 4)\n",
    "\n",
    "print(result)"
   ]
  },
  {
   "cell_type": "markdown",
   "id": "dc866d6f",
   "metadata": {},
   "source": [
    "#### Recursion"
   ]
  },
  {
   "cell_type": "code",
   "execution_count": 30,
   "id": "fb5b5df3",
   "metadata": {},
   "outputs": [],
   "source": [
    "def countdown(num):  \n",
    "    newnum = 0            # 3                # 2                        # 1  \n",
    "    if num <= 1: \n",
    "        print('Stop')\n",
    "        newnum = num \n",
    "        #print(newvar)\n",
    "        return newnum\n",
    "    else:\n",
    "        print(num)           # print 3             # 2                     # 1 \n",
    "        newnum = countdown(num-1)\n",
    "    \n",
    "    return newnum  #  num = 3-1 = 2      # num =  2 -1  = 1        num 1          0"
   ]
  },
  {
   "cell_type": "code",
   "execution_count": 31,
   "id": "e6677833",
   "metadata": {},
   "outputs": [
    {
     "name": "stdout",
     "output_type": "stream",
     "text": [
      "4\n",
      "3\n",
      "2\n",
      "Stop\n",
      "1\n"
     ]
    }
   ],
   "source": [
    "hasilakhir = countdown(4)\n",
    "print(hasilakhir)"
   ]
  },
  {
   "cell_type": "markdown",
   "id": "f883b0a2",
   "metadata": {},
   "source": [
    "#### Assigning Functions to Variables"
   ]
  },
  {
   "cell_type": "code",
   "execution_count": 33,
   "id": "2a9042ff",
   "metadata": {},
   "outputs": [
    {
     "name": "stdout",
     "output_type": "stream",
     "text": [
      "Hello, World!\n",
      "Hello, World!\n"
     ]
    }
   ],
   "source": [
    "def hello():\n",
    "    print('Hello, World!')\n",
    "  \n",
    "hi = hello\n",
    "hi()\n",
    "hello()\n",
    "# Prints Hello, World!"
   ]
  },
  {
   "cell_type": "markdown",
   "id": "a8d14215",
   "metadata": {},
   "source": [
    "### dictionary of functions "
   ]
  },
  {
   "cell_type": "code",
   "execution_count": 34,
   "id": "217af767",
   "metadata": {},
   "outputs": [
    {
     "name": "stdout",
     "output_type": "stream",
     "text": [
      "9\n",
      "27\n"
     ]
    }
   ],
   "source": [
    "# You can use this feature to implement jump table.\n",
    "# Jump table is a dictionary of functions to be called on demand.\n",
    "def findSquare(x):\n",
    "    return x ** 2\n",
    "\n",
    "def findCube(x):\n",
    "    return x ** 3\n",
    "\n",
    "# Create a dictionary of functions\n",
    "exponent = {'square': findSquare, 'cube': findCube}\n",
    "\n",
    "print(exponent['square'](3))\n",
    "# Prints 9\n",
    "print(exponent['cube'](3))\n",
    "# Prints 27"
   ]
  },
  {
   "cell_type": "markdown",
   "id": "87cfa701",
   "metadata": {},
   "source": [
    "#### Python Function Executes at Runtime"
   ]
  },
  {
   "cell_type": "code",
   "execution_count": 35,
   "id": "63caf1c6",
   "metadata": {},
   "outputs": [
    {
     "name": "stdout",
     "output_type": "stream",
     "text": [
      "Hello, Universe!\n"
     ]
    }
   ],
   "source": [
    "x = 0\n",
    "if x:\n",
    "    def hello():\n",
    "        print('Hello, World!')\n",
    "else:\n",
    "    def hello():\n",
    "        print('Hello, Universe!')\n",
    "\n",
    "hello()\n",
    "# Prints Hello, Universe!"
   ]
  },
  {
   "cell_type": "markdown",
   "id": "b83f0abd",
   "metadata": {},
   "source": [
    "#### The Anonymous Functions"
   ]
  },
  {
   "cell_type": "code",
   "execution_count": 36,
   "id": "0883aa4c",
   "metadata": {},
   "outputs": [
    {
     "name": "stdout",
     "output_type": "stream",
     "text": [
      "Value of total :  30\n",
      "Value of total :  30\n"
     ]
    }
   ],
   "source": [
    "# Function definition is here\n",
    "sum = lambda arg1 , arg2 : arg1 + arg2; \n",
    "\n",
    "def sum1(arg1, arg2):\n",
    "    return arg1 + arg2 \n",
    "\n",
    "\n",
    "# Now you can call sum as a function\n",
    "print(\"Value of total : \",sum(10,20))\n",
    "print(\"Value of total : \",sum1(10,20))"
   ]
  },
  {
   "cell_type": "markdown",
   "id": "23a628bc",
   "metadata": {},
   "source": [
    "#### Docstring "
   ]
  },
  {
   "cell_type": "code",
   "execution_count": 37,
   "id": "d8c2dc9f",
   "metadata": {},
   "outputs": [],
   "source": [
    "def hello():\n",
    "    \"\"\"This function prints\n",
    "       message on the screen\"\"\"  \n",
    "    print('Hello, World!')"
   ]
  },
  {
   "cell_type": "code",
   "execution_count": 38,
   "id": "a9668d59",
   "metadata": {},
   "outputs": [
    {
     "name": "stdout",
     "output_type": "stream",
     "text": [
      "Help on function hello in module __main__:\n",
      "\n",
      "hello()\n",
      "    This function prints\n",
      "    message on the screen\n",
      "\n"
     ]
    }
   ],
   "source": [
    "# Print docstring in rich format\n",
    "help(hello)"
   ]
  },
  {
   "cell_type": "code",
   "execution_count": 39,
   "id": "8994523e",
   "metadata": {},
   "outputs": [
    {
     "name": "stdout",
     "output_type": "stream",
     "text": [
      "This function prints\n",
      "       message on the screen\n"
     ]
    }
   ],
   "source": [
    "# Print docstring in a raw format\n",
    "print(hello.__doc__)"
   ]
  },
  {
   "cell_type": "markdown",
   "id": "402d46bf",
   "metadata": {},
   "source": [
    "#### Buatlah suatu fungsi numerik / angka menjadi huruf (LATIHAN)  \n",
    "\n",
    "contoh :\n",
    "pada saat di input 1000 \n",
    "maka akan mencetak :  **\"seribu\"** \n",
    "\n",
    "Input angka ? 100000 \n",
    "maka akan mencetak :  **\"seratus ribu\"** \n",
    "\n",
    "    Gunakan Function Recursion \n",
    "    Gunakan Operator Pembagi untuk mendapatkan bilang pertama ( Contoh 87 :  87 / 10 = 8 ) \n",
    "    Dan gunakan Operator Modulus untuk mendapatkan bilang akhir  ( Contoh  87  :  87 % 10 = 7 ) \n"
   ]
  },
  {
   "cell_type": "markdown",
   "id": "bb3a5a48",
   "metadata": {},
   "source": [
    "## Jawab"
   ]
  },
  {
   "cell_type": "code",
   "execution_count": null,
   "id": "7d307e4a",
   "metadata": {},
   "outputs": [
    {
     "name": "stdout",
     "output_type": "stream",
     "text": [
      "Masukan angka dari 1 sd 1.000.000.000.000.000(0 untuk keluar): 1000\n",
      " Terbilang ----  Seribu  Rupiah ----\n"
     ]
    }
   ],
   "source": [
    "def Terbilang(bil):\n",
    "    angka = [\"\",\"Satu\",\"Dua\",\"Tiga\",\"Empat\",\"Lima\",\"Enam\",\n",
    "             \"Tujuh\",\"Delapan\",\"Sembilan\",\"Sepuluh\",\"Sebelas\"]\n",
    "    hasil = \"\"\n",
    "    n = int(bil)\n",
    "    if n >= 0 and n <= 11:\n",
    "        hasil = angka[n]\n",
    "    elif n < 20:\n",
    "        hasil = Terbilang (n-10) + \"Belas\"\n",
    "    elif n < 100:\n",
    "        hasil = Terbilang (n/10) + \" Puluh \" + Terbilang (n%10)\n",
    "    elif n < 200:\n",
    "        hasil = \" Seratus \" + Terbilang (n-100)\n",
    "    elif n < 1000:\n",
    "        hasil = Terbilang (n/100) + \" Ratus \" + Terbilang (n%100)\n",
    "    elif n < 2000:\n",
    "        hasil = \" Seribu \" + Terbilang (n-1000)\n",
    "    elif n <1000000:\n",
    "        hasil = Terbilang (n/1000) + \" Ribu \" + Terbilang (n%1000)\n",
    "    elif n <1000000000:\n",
    "        hasil = Terbilang (n/1000000) + \" Juta \" + Terbilang (n%1000000)\n",
    "    elif n <1000000000000:\n",
    "        hasil = Terbilang (n/1000000000) + \" Milyar \" + Terbilang (n%1000000000)\n",
    "    elif n <1000000000000000:\n",
    "        hasil = Terbilang (n/1000000000000) + \" Triliyun \" + Terbilang (n%1000000000000)\n",
    "    elif n == 1000000000000000:\n",
    "        hasil = \"Satu Kuadriliun\"\n",
    "    else:\n",
    "        hasil = \"Angka Hanya Sampai Satu Kuadriliun\"\n",
    "\n",
    "    return hasil\n",
    "a=1\n",
    "while a!= 0:\n",
    "    a = input('Masukan angka dari 1 sd 1.000.000.000.000.000(0 untuk keluar): ')\n",
    "    huruf = Terbilang(a)\n",
    "    print (' Terbilang ---- '+huruf+ ' Rupiah ----')\n",
    "    continue"
   ]
  }
 ],
 "metadata": {
  "kernelspec": {
   "display_name": "Python 3",
   "language": "python",
   "name": "python3"
  },
  "language_info": {
   "codemirror_mode": {
    "name": "ipython",
    "version": 3
   },
   "file_extension": ".py",
   "mimetype": "text/x-python",
   "name": "python",
   "nbconvert_exporter": "python",
   "pygments_lexer": "ipython3",
   "version": "3.8.8"
  }
 },
 "nbformat": 4,
 "nbformat_minor": 5
}
